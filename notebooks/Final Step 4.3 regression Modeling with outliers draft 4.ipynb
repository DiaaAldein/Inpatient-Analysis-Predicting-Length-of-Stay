{
 "cells": [
  {
   "cell_type": "code",
   "execution_count": 1,
   "id": "dbe68aa8",
   "metadata": {},
   "outputs": [],
   "source": [
    "# Importing necessary libraries\n",
    "import pandas as pd\n",
    "import numpy as np\n",
    "from sklearn.model_selection import train_test_split\n",
    "from sklearn.preprocessing import StandardScaler,PolynomialFeatures\n",
    "from sklearn.linear_model import LinearRegression, LogisticRegression\n",
    "from sklearn.neighbors import KNeighborsRegressor, KNeighborsClassifier\n",
    "from sklearn.ensemble import RandomForestRegressor, RandomForestClassifier\n",
    "from sklearn.decomposition import PCA\n",
    "from sklearn.metrics import mean_absolute_error, recall_score,precision_score\n",
    "from imblearn.under_sampling import RandomUnderSampler\n",
    "from imblearn.over_sampling import SMOTE,RandomOverSampler\n",
    "from sklearn.ensemble import AdaBoostRegressor,AdaBoostClassifier\n",
    "import xgboost as xgb\n",
    "from sklearn.model_selection import cross_validate,GridSearchCV,RandomizedSearchCV\n",
    "import joblib\n",
    "import warnings            \n",
    "warnings.filterwarnings(\"ignore\") "
   ]
  },
  {
   "cell_type": "code",
   "execution_count": 2,
   "id": "2f8c0af9",
   "metadata": {},
   "outputs": [
    {
     "data": {
      "text/html": [
       "<div>\n",
       "<style scoped>\n",
       "    .dataframe tbody tr th:only-of-type {\n",
       "        vertical-align: middle;\n",
       "    }\n",
       "\n",
       "    .dataframe tbody tr th {\n",
       "        vertical-align: top;\n",
       "    }\n",
       "\n",
       "    .dataframe thead th {\n",
       "        text-align: right;\n",
       "    }\n",
       "</style>\n",
       "<table border=\"1\" class=\"dataframe\">\n",
       "  <thead>\n",
       "    <tr style=\"text-align: right;\">\n",
       "      <th></th>\n",
       "      <th>age_group</th>\n",
       "      <th>length_of_stay</th>\n",
       "      <th>type_of_admission</th>\n",
       "      <th>ccs_diagnosis_description</th>\n",
       "      <th>ccs_procedure_description</th>\n",
       "      <th>apr_drg_description</th>\n",
       "      <th>apr_mdc_description</th>\n",
       "      <th>apr_severity_of_illness_description</th>\n",
       "      <th>apr_risk_of_mortality</th>\n",
       "      <th>gender_M</th>\n",
       "      <th>apr_medical_surgical_description_Surgical</th>\n",
       "      <th>emergency_department_indicator_Y</th>\n",
       "    </tr>\n",
       "  </thead>\n",
       "  <tbody>\n",
       "    <tr>\n",
       "      <th>0</th>\n",
       "      <td>3</td>\n",
       "      <td>5</td>\n",
       "      <td>8.63</td>\n",
       "      <td>16.72</td>\n",
       "      <td>7.57</td>\n",
       "      <td>19.22</td>\n",
       "      <td>18.55</td>\n",
       "      <td>1</td>\n",
       "      <td>1</td>\n",
       "      <td>0</td>\n",
       "      <td>0</td>\n",
       "      <td>1</td>\n",
       "    </tr>\n",
       "    <tr>\n",
       "      <th>1</th>\n",
       "      <td>1</td>\n",
       "      <td>8</td>\n",
       "      <td>8.63</td>\n",
       "      <td>16.72</td>\n",
       "      <td>7.57</td>\n",
       "      <td>19.22</td>\n",
       "      <td>18.55</td>\n",
       "      <td>2</td>\n",
       "      <td>1</td>\n",
       "      <td>0</td>\n",
       "      <td>0</td>\n",
       "      <td>1</td>\n",
       "    </tr>\n",
       "    <tr>\n",
       "      <th>2</th>\n",
       "      <td>2</td>\n",
       "      <td>8</td>\n",
       "      <td>8.63</td>\n",
       "      <td>16.72</td>\n",
       "      <td>7.57</td>\n",
       "      <td>19.22</td>\n",
       "      <td>18.55</td>\n",
       "      <td>1</td>\n",
       "      <td>1</td>\n",
       "      <td>1</td>\n",
       "      <td>0</td>\n",
       "      <td>1</td>\n",
       "    </tr>\n",
       "    <tr>\n",
       "      <th>3</th>\n",
       "      <td>3</td>\n",
       "      <td>4</td>\n",
       "      <td>8.63</td>\n",
       "      <td>6.22</td>\n",
       "      <td>7.57</td>\n",
       "      <td>4.97</td>\n",
       "      <td>8.57</td>\n",
       "      <td>1</td>\n",
       "      <td>1</td>\n",
       "      <td>0</td>\n",
       "      <td>0</td>\n",
       "      <td>1</td>\n",
       "    </tr>\n",
       "    <tr>\n",
       "      <th>4</th>\n",
       "      <td>3</td>\n",
       "      <td>3</td>\n",
       "      <td>8.63</td>\n",
       "      <td>6.89</td>\n",
       "      <td>7.57</td>\n",
       "      <td>6.20</td>\n",
       "      <td>8.61</td>\n",
       "      <td>2</td>\n",
       "      <td>2</td>\n",
       "      <td>1</td>\n",
       "      <td>0</td>\n",
       "      <td>1</td>\n",
       "    </tr>\n",
       "    <tr>\n",
       "      <th>...</th>\n",
       "      <td>...</td>\n",
       "      <td>...</td>\n",
       "      <td>...</td>\n",
       "      <td>...</td>\n",
       "      <td>...</td>\n",
       "      <td>...</td>\n",
       "      <td>...</td>\n",
       "      <td>...</td>\n",
       "      <td>...</td>\n",
       "      <td>...</td>\n",
       "      <td>...</td>\n",
       "      <td>...</td>\n",
       "    </tr>\n",
       "    <tr>\n",
       "      <th>722448</th>\n",
       "      <td>3</td>\n",
       "      <td>3</td>\n",
       "      <td>8.63</td>\n",
       "      <td>9.32</td>\n",
       "      <td>6.79</td>\n",
       "      <td>5.76</td>\n",
       "      <td>7.81</td>\n",
       "      <td>3</td>\n",
       "      <td>3</td>\n",
       "      <td>0</td>\n",
       "      <td>1</td>\n",
       "      <td>1</td>\n",
       "    </tr>\n",
       "    <tr>\n",
       "      <th>722449</th>\n",
       "      <td>1</td>\n",
       "      <td>1</td>\n",
       "      <td>8.63</td>\n",
       "      <td>4.97</td>\n",
       "      <td>8.38</td>\n",
       "      <td>5.04</td>\n",
       "      <td>5.84</td>\n",
       "      <td>3</td>\n",
       "      <td>3</td>\n",
       "      <td>0</td>\n",
       "      <td>0</td>\n",
       "      <td>1</td>\n",
       "    </tr>\n",
       "    <tr>\n",
       "      <th>722450</th>\n",
       "      <td>4</td>\n",
       "      <td>3</td>\n",
       "      <td>8.63</td>\n",
       "      <td>7.68</td>\n",
       "      <td>4.88</td>\n",
       "      <td>7.40</td>\n",
       "      <td>7.81</td>\n",
       "      <td>3</td>\n",
       "      <td>3</td>\n",
       "      <td>1</td>\n",
       "      <td>0</td>\n",
       "      <td>1</td>\n",
       "    </tr>\n",
       "    <tr>\n",
       "      <th>722451</th>\n",
       "      <td>4</td>\n",
       "      <td>2</td>\n",
       "      <td>8.63</td>\n",
       "      <td>14.06</td>\n",
       "      <td>6.65</td>\n",
       "      <td>17.10</td>\n",
       "      <td>12.42</td>\n",
       "      <td>4</td>\n",
       "      <td>4</td>\n",
       "      <td>0</td>\n",
       "      <td>1</td>\n",
       "      <td>1</td>\n",
       "    </tr>\n",
       "    <tr>\n",
       "      <th>722452</th>\n",
       "      <td>3</td>\n",
       "      <td>2</td>\n",
       "      <td>8.68</td>\n",
       "      <td>16.72</td>\n",
       "      <td>7.57</td>\n",
       "      <td>16.55</td>\n",
       "      <td>18.55</td>\n",
       "      <td>1</td>\n",
       "      <td>1</td>\n",
       "      <td>1</td>\n",
       "      <td>0</td>\n",
       "      <td>0</td>\n",
       "    </tr>\n",
       "  </tbody>\n",
       "</table>\n",
       "<p>722453 rows × 12 columns</p>\n",
       "</div>"
      ],
      "text/plain": [
       "        age_group  length_of_stay  type_of_admission  \\\n",
       "0               3               5               8.63   \n",
       "1               1               8               8.63   \n",
       "2               2               8               8.63   \n",
       "3               3               4               8.63   \n",
       "4               3               3               8.63   \n",
       "...           ...             ...                ...   \n",
       "722448          3               3               8.63   \n",
       "722449          1               1               8.63   \n",
       "722450          4               3               8.63   \n",
       "722451          4               2               8.63   \n",
       "722452          3               2               8.68   \n",
       "\n",
       "        ccs_diagnosis_description  ccs_procedure_description  \\\n",
       "0                           16.72                       7.57   \n",
       "1                           16.72                       7.57   \n",
       "2                           16.72                       7.57   \n",
       "3                            6.22                       7.57   \n",
       "4                            6.89                       7.57   \n",
       "...                           ...                        ...   \n",
       "722448                       9.32                       6.79   \n",
       "722449                       4.97                       8.38   \n",
       "722450                       7.68                       4.88   \n",
       "722451                      14.06                       6.65   \n",
       "722452                      16.72                       7.57   \n",
       "\n",
       "        apr_drg_description  apr_mdc_description  \\\n",
       "0                     19.22                18.55   \n",
       "1                     19.22                18.55   \n",
       "2                     19.22                18.55   \n",
       "3                      4.97                 8.57   \n",
       "4                      6.20                 8.61   \n",
       "...                     ...                  ...   \n",
       "722448                 5.76                 7.81   \n",
       "722449                 5.04                 5.84   \n",
       "722450                 7.40                 7.81   \n",
       "722451                17.10                12.42   \n",
       "722452                16.55                18.55   \n",
       "\n",
       "        apr_severity_of_illness_description  apr_risk_of_mortality  gender_M  \\\n",
       "0                                         1                      1         0   \n",
       "1                                         2                      1         0   \n",
       "2                                         1                      1         1   \n",
       "3                                         1                      1         0   \n",
       "4                                         2                      2         1   \n",
       "...                                     ...                    ...       ...   \n",
       "722448                                    3                      3         0   \n",
       "722449                                    3                      3         0   \n",
       "722450                                    3                      3         1   \n",
       "722451                                    4                      4         0   \n",
       "722452                                    1                      1         1   \n",
       "\n",
       "        apr_medical_surgical_description_Surgical  \\\n",
       "0                                               0   \n",
       "1                                               0   \n",
       "2                                               0   \n",
       "3                                               0   \n",
       "4                                               0   \n",
       "...                                           ...   \n",
       "722448                                          1   \n",
       "722449                                          0   \n",
       "722450                                          0   \n",
       "722451                                          1   \n",
       "722452                                          0   \n",
       "\n",
       "        emergency_department_indicator_Y  \n",
       "0                                      1  \n",
       "1                                      1  \n",
       "2                                      1  \n",
       "3                                      1  \n",
       "4                                      1  \n",
       "...                                  ...  \n",
       "722448                                 1  \n",
       "722449                                 1  \n",
       "722450                                 1  \n",
       "722451                                 1  \n",
       "722452                                 0  \n",
       "\n",
       "[722453 rows x 12 columns]"
      ]
     },
     "execution_count": 2,
     "metadata": {},
     "output_type": "execute_result"
    }
   ],
   "source": [
    "# loading the dataset.\n",
    "df = pd.read_csv('../data/processed/processed_data_with_outliers.csv')\n",
    "df"
   ]
  },
  {
   "cell_type": "markdown",
   "id": "f7ad9bf4",
   "metadata": {},
   "source": [
    "## 1) Maintain the huge size of the data set which will be challenging when appling diffrent modeling approch:\n",
    "#### Although the size of the data after cleaning and preprocessing decreese greatly to 722,453 entries instance and 12 features but it is still challenging to deal with it for limted pressoer laptob so we are going take small sample to run the models more efficently while maintaing the same characteristics of the data by usin straitify method."
   ]
  },
  {
   "cell_type": "code",
   "execution_count": 3,
   "id": "743fe0ef",
   "metadata": {},
   "outputs": [],
   "source": [
    "df.length_of_stay = df.length_of_stay.astype(float)"
   ]
  },
  {
   "cell_type": "code",
   "execution_count": 4,
   "id": "82f592a4",
   "metadata": {},
   "outputs": [
    {
     "data": {
      "text/plain": [
       "0         5.0\n",
       "1         8.0\n",
       "2         8.0\n",
       "3         4.0\n",
       "4         3.0\n",
       "         ... \n",
       "722448    3.0\n",
       "722449    1.0\n",
       "722450    3.0\n",
       "722451    2.0\n",
       "722452    2.0\n",
       "Name: length_of_stay, Length: 722453, dtype: float64"
      ]
     },
     "execution_count": 4,
     "metadata": {},
     "output_type": "execute_result"
    }
   ],
   "source": [
    "df.length_of_stay"
   ]
  },
  {
   "cell_type": "code",
   "execution_count": 5,
   "id": "35b12d32",
   "metadata": {},
   "outputs": [],
   "source": [
    "# divede the data fram to x = features & y = target\n",
    "x = df.drop(\"length_of_stay\", axis = 1)\n",
    "y = df[\"length_of_stay\"]"
   ]
  },
  {
   "cell_type": "code",
   "execution_count": 6,
   "id": "795d3a73",
   "metadata": {},
   "outputs": [],
   "source": [
    "# taking sample of the data using stratify to maintain data characteristics\n",
    "main_x,sample_x,main_y,sample_y = train_test_split(x,y,test_size=0.01,stratify=y)"
   ]
  },
  {
   "cell_type": "code",
   "execution_count": 7,
   "id": "b8c77e60",
   "metadata": {},
   "outputs": [
    {
     "data": {
      "text/plain": [
       "2.0     848\n",
       "3.0     828\n",
       "1.0     758\n",
       "4.0     713\n",
       "5.0     593\n",
       "       ... \n",
       "73.0      1\n",
       "84.0      1\n",
       "72.0      1\n",
       "91.0      1\n",
       "95.0      1\n",
       "Name: length_of_stay, Length: 99, dtype: int64"
      ]
     },
     "execution_count": 7,
     "metadata": {},
     "output_type": "execute_result"
    }
   ],
   "source": [
    "sample_y.value_counts()"
   ]
  },
  {
   "cell_type": "code",
   "execution_count": 8,
   "id": "8d19f310",
   "metadata": {},
   "outputs": [],
   "source": [
    "sampler = RandomOverSampler()\n",
    "sample_x,sample_y = sampler.fit_resample(sample_x,sample_y)"
   ]
  },
  {
   "cell_type": "code",
   "execution_count": 9,
   "id": "7aa50f90",
   "metadata": {},
   "outputs": [
    {
     "data": {
      "text/html": [
       "<div>\n",
       "<style scoped>\n",
       "    .dataframe tbody tr th:only-of-type {\n",
       "        vertical-align: middle;\n",
       "    }\n",
       "\n",
       "    .dataframe tbody tr th {\n",
       "        vertical-align: top;\n",
       "    }\n",
       "\n",
       "    .dataframe thead th {\n",
       "        text-align: right;\n",
       "    }\n",
       "</style>\n",
       "<table border=\"1\" class=\"dataframe\">\n",
       "  <thead>\n",
       "    <tr style=\"text-align: right;\">\n",
       "      <th></th>\n",
       "      <th>age_group</th>\n",
       "      <th>type_of_admission</th>\n",
       "      <th>ccs_diagnosis_description</th>\n",
       "      <th>ccs_procedure_description</th>\n",
       "      <th>apr_drg_description</th>\n",
       "      <th>apr_mdc_description</th>\n",
       "      <th>apr_severity_of_illness_description</th>\n",
       "      <th>apr_risk_of_mortality</th>\n",
       "      <th>gender_M</th>\n",
       "      <th>apr_medical_surgical_description_Surgical</th>\n",
       "      <th>emergency_department_indicator_Y</th>\n",
       "    </tr>\n",
       "  </thead>\n",
       "  <tbody>\n",
       "    <tr>\n",
       "      <th>0</th>\n",
       "      <td>1</td>\n",
       "      <td>8.63</td>\n",
       "      <td>3.83</td>\n",
       "      <td>7.57</td>\n",
       "      <td>3.75</td>\n",
       "      <td>8.61</td>\n",
       "      <td>1</td>\n",
       "      <td>1</td>\n",
       "      <td>0</td>\n",
       "      <td>0</td>\n",
       "      <td>1</td>\n",
       "    </tr>\n",
       "    <tr>\n",
       "      <th>1</th>\n",
       "      <td>1</td>\n",
       "      <td>8.63</td>\n",
       "      <td>6.70</td>\n",
       "      <td>7.49</td>\n",
       "      <td>5.12</td>\n",
       "      <td>7.33</td>\n",
       "      <td>3</td>\n",
       "      <td>2</td>\n",
       "      <td>0</td>\n",
       "      <td>0</td>\n",
       "      <td>1</td>\n",
       "    </tr>\n",
       "    <tr>\n",
       "      <th>2</th>\n",
       "      <td>4</td>\n",
       "      <td>8.63</td>\n",
       "      <td>7.44</td>\n",
       "      <td>5.14</td>\n",
       "      <td>6.04</td>\n",
       "      <td>7.64</td>\n",
       "      <td>2</td>\n",
       "      <td>2</td>\n",
       "      <td>1</td>\n",
       "      <td>0</td>\n",
       "      <td>1</td>\n",
       "    </tr>\n",
       "    <tr>\n",
       "      <th>3</th>\n",
       "      <td>4</td>\n",
       "      <td>8.63</td>\n",
       "      <td>4.64</td>\n",
       "      <td>10.40</td>\n",
       "      <td>4.23</td>\n",
       "      <td>5.34</td>\n",
       "      <td>3</td>\n",
       "      <td>2</td>\n",
       "      <td>0</td>\n",
       "      <td>0</td>\n",
       "      <td>1</td>\n",
       "    </tr>\n",
       "    <tr>\n",
       "      <th>4</th>\n",
       "      <td>2</td>\n",
       "      <td>8.63</td>\n",
       "      <td>6.96</td>\n",
       "      <td>7.66</td>\n",
       "      <td>7.11</td>\n",
       "      <td>7.33</td>\n",
       "      <td>2</td>\n",
       "      <td>2</td>\n",
       "      <td>1</td>\n",
       "      <td>1</td>\n",
       "      <td>0</td>\n",
       "    </tr>\n",
       "  </tbody>\n",
       "</table>\n",
       "</div>"
      ],
      "text/plain": [
       "   age_group  type_of_admission  ccs_diagnosis_description  \\\n",
       "0          1               8.63                       3.83   \n",
       "1          1               8.63                       6.70   \n",
       "2          4               8.63                       7.44   \n",
       "3          4               8.63                       4.64   \n",
       "4          2               8.63                       6.96   \n",
       "\n",
       "   ccs_procedure_description  apr_drg_description  apr_mdc_description  \\\n",
       "0                       7.57                 3.75                 8.61   \n",
       "1                       7.49                 5.12                 7.33   \n",
       "2                       5.14                 6.04                 7.64   \n",
       "3                      10.40                 4.23                 5.34   \n",
       "4                       7.66                 7.11                 7.33   \n",
       "\n",
       "   apr_severity_of_illness_description  apr_risk_of_mortality  gender_M  \\\n",
       "0                                    1                      1         0   \n",
       "1                                    3                      2         0   \n",
       "2                                    2                      2         1   \n",
       "3                                    3                      2         0   \n",
       "4                                    2                      2         1   \n",
       "\n",
       "   apr_medical_surgical_description_Surgical  emergency_department_indicator_Y  \n",
       "0                                          0                                 1  \n",
       "1                                          0                                 1  \n",
       "2                                          0                                 1  \n",
       "3                                          0                                 1  \n",
       "4                                          1                                 0  "
      ]
     },
     "execution_count": 9,
     "metadata": {},
     "output_type": "execute_result"
    }
   ],
   "source": [
    "sample_x.head()"
   ]
  },
  {
   "cell_type": "code",
   "execution_count": 10,
   "id": "6456c4fa",
   "metadata": {},
   "outputs": [
    {
     "data": {
      "text/plain": [
       "1.0      848\n",
       "75.0     848\n",
       "57.0     848\n",
       "84.0     848\n",
       "53.0     848\n",
       "        ... \n",
       "120.0    848\n",
       "39.0     848\n",
       "37.0     848\n",
       "36.0     848\n",
       "95.0     848\n",
       "Name: length_of_stay, Length: 99, dtype: int64"
      ]
     },
     "execution_count": 10,
     "metadata": {},
     "output_type": "execute_result"
    }
   ],
   "source": [
    "sample_y.value_counts()"
   ]
  },
  {
   "cell_type": "code",
   "execution_count": 11,
   "id": "7a802aa4",
   "metadata": {},
   "outputs": [
    {
     "data": {
      "text/plain": [
       "83952"
      ]
     },
     "execution_count": 11,
     "metadata": {},
     "output_type": "execute_result"
    }
   ],
   "source": [
    "sample_y.count()"
   ]
  },
  {
   "cell_type": "code",
   "execution_count": 12,
   "id": "4203cccb",
   "metadata": {},
   "outputs": [
    {
     "data": {
      "text/plain": [
       "0"
      ]
     },
     "execution_count": 12,
     "metadata": {},
     "output_type": "execute_result"
    }
   ],
   "source": [
    "sample_y.isnull().sum()"
   ]
  },
  {
   "cell_type": "code",
   "execution_count": 13,
   "id": "64995aa6",
   "metadata": {},
   "outputs": [
    {
     "data": {
      "text/plain": [
       "age_group                                    0\n",
       "type_of_admission                            0\n",
       "ccs_diagnosis_description                    0\n",
       "ccs_procedure_description                    0\n",
       "apr_drg_description                          0\n",
       "apr_mdc_description                          0\n",
       "apr_severity_of_illness_description          0\n",
       "apr_risk_of_mortality                        0\n",
       "gender_M                                     0\n",
       "apr_medical_surgical_description_Surgical    0\n",
       "emergency_department_indicator_Y             0\n",
       "dtype: int64"
      ]
     },
     "execution_count": 13,
     "metadata": {},
     "output_type": "execute_result"
    }
   ],
   "source": [
    "sample_x.isnull().sum()"
   ]
  },
  {
   "cell_type": "code",
   "execution_count": 14,
   "id": "832b988f",
   "metadata": {},
   "outputs": [],
   "source": [
    "x_train,x_test,y_train,y_test = train_test_split(sample_x,sample_y,test_size=0.5,stratify=sample_y)"
   ]
  },
  {
   "cell_type": "code",
   "execution_count": 15,
   "id": "5d57d765",
   "metadata": {},
   "outputs": [],
   "source": [
    "# Using Stander Scaler for x_train, x_test\n",
    "scaler = StandardScaler()\n",
    "x_train_scaled = scaler.fit_transform(x_train)\n",
    "x_test_scaled = scaler.transform(x_test)"
   ]
  },
  {
   "cell_type": "code",
   "execution_count": 16,
   "id": "ebaf70f4",
   "metadata": {},
   "outputs": [],
   "source": [
    "# trying three different models to compare between them\n",
    "models = {\"lr\": LinearRegression(),\n",
    "          \"knn\": KNeighborsRegressor(),\n",
    "          \"rf\": RandomForestRegressor(),\n",
    "         \"Adboost\": AdaBoostRegressor()}"
   ]
  },
  {
   "cell_type": "code",
   "execution_count": 17,
   "id": "4a90cc9d",
   "metadata": {},
   "outputs": [
    {
     "name": "stdout",
     "output_type": "stream",
     "text": [
      "-----------  lr  -------------\n",
      "Train Acurracy Score 0.3 Test Acurracy Score 0.29\n",
      "Train MAE Score:  19.709664741608545 Test MAE Score:  19.79\n",
      "************************************************************\n",
      "-----------  knn  -------------\n",
      "Train Acurracy Score 0.98 Test Acurracy Score 0.98\n",
      "Train MAE Score:  0.7617543358109397 Test MAE Score:  1.0\n",
      "************************************************************\n",
      "-----------  rf  -------------\n",
      "Train Acurracy Score 0.99 Test Acurracy Score 0.99\n",
      "Train MAE Score:  0.48379897572297653 Test MAE Score:  0.75\n",
      "************************************************************\n",
      "-----------  Adboost  -------------\n",
      "Train Acurracy Score 0.33 Test Acurracy Score 0.33\n",
      "Train MAE Score:  20.32362627267084 Test MAE Score:  20.32\n",
      "************************************************************\n"
     ]
    }
   ],
   "source": [
    "# running the three different models and check the result using for loop\n",
    "for name,model in models.items():\n",
    "    print(\"----------- \", name, \" -------------\")\n",
    "    model.fit(x_train_scaled,y_train)\n",
    "    y_train_pred = model.predict(x_train_scaled)\n",
    "    y_test_pred = model.predict(x_test_scaled)\n",
    "    print(\"Train Acurracy Score\", round(model.score(x_train_scaled,y_train),2),\"Test Acurracy Score\", round(model.score(x_test_scaled,y_test),2))\n",
    "    print(\"Train MAE Score: \", mean_absolute_error(y_train_pred,y_train),\"Test MAE Score: \", round(mean_absolute_error(y_test_pred,y_test),2))\n",
    "    print(\"*\"*60)"
   ]
  },
  {
   "cell_type": "code",
   "execution_count": 18,
   "id": "57218b8d",
   "metadata": {},
   "outputs": [],
   "source": [
    "knnr = KNeighborsRegressor()"
   ]
  },
  {
   "cell_type": "code",
   "execution_count": 19,
   "id": "182cf6f0",
   "metadata": {},
   "outputs": [
    {
     "name": "stdout",
     "output_type": "stream",
     "text": [
      "Train Acurracy Score 0.98 Test Acurracy Score 0.98\n",
      "Train MAE Score:  0.7617543358109397 Test MAE Score:  1.0\n",
      "************************************************************\n"
     ]
    }
   ],
   "source": [
    "knnr.fit(x_train_scaled,y_train)\n",
    "y_train_pred = knnr.predict(x_train_scaled)\n",
    "y_test_pred = knnr.predict(x_test_scaled)\n",
    "print(\"Train Acurracy Score\", round(knnr.score(x_train_scaled,y_train),2),\"Test Acurracy Score\", round(knnr.score(x_test_scaled,y_test),2))\n",
    "print(\"Train MAE Score: \", mean_absolute_error(y_train_pred,y_train),\"Test MAE Score: \", round(mean_absolute_error(y_test_pred,y_test),2))\n",
    "print(\"*\"*60)"
   ]
  },
  {
   "cell_type": "code",
   "execution_count": 20,
   "id": "e2c9f666",
   "metadata": {},
   "outputs": [],
   "source": [
    "rfr = RandomForestRegressor()"
   ]
  },
  {
   "cell_type": "code",
   "execution_count": 21,
   "id": "ca8863c3",
   "metadata": {},
   "outputs": [
    {
     "name": "stdout",
     "output_type": "stream",
     "text": [
      "Train Acurracy Score 0.99 Test Acurracy Score 0.99\n",
      "Train MAE Score:  0.4873045281968156 Test MAE Score:  0.75\n",
      "************************************************************\n"
     ]
    }
   ],
   "source": [
    "rfr.fit(x_train_scaled,y_train)\n",
    "y_train_pred = rfr.predict(x_train_scaled)\n",
    "y_test_pred = rfr.predict(x_test_scaled)\n",
    "print(\"Train Acurracy Score\", round(rfr.score(x_train_scaled,y_train),2),\"Test Acurracy Score\", round(rfr.score(x_test_scaled,y_test),2))\n",
    "print(\"Train MAE Score: \", mean_absolute_error(y_train_pred,y_train),\"Test MAE Score: \", round(mean_absolute_error(y_test_pred,y_test),2))\n",
    "print(\"*\"*60)"
   ]
  },
  {
   "cell_type": "markdown",
   "id": "4cfe8f9b",
   "metadata": {},
   "source": [
    "## Parameter Tuning\n",
    "\n",
    "#### Here are some parameters that we can use for a random forest regressor model for cross-validation with grid & randomize search:\n",
    "\n",
    "        * n_estimators: The number of trees in the forest.\n",
    "        * max_depth: The maximum depth of each tree in the forest.\n",
    "        * min_samples_split: The minimum number of samples required to split a node in the tree.\n",
    "        * min_samples_leaf: The minimum number of samples required in a leaf node.\n",
    "        * max_features: The maximum number of features to consider when splitting a node in the tree.\n",
    "        * bootstrap: Whether to bootstrap the data when training the trees in the forest.\n",
    "        * criterion: The criterion used to split nodes in the trees.\n",
    "        * oob_score: Whether to calculate the out-of-bag (OOB) score during training.\n",
    "        * cv: The number of folds to use in cross-validation.\n",
    "        * n_iter: The number of iterations to perform for randomized search."
   ]
  },
  {
   "cell_type": "code",
   "execution_count": 22,
   "id": "fb22135d",
   "metadata": {},
   "outputs": [
    {
     "data": {
      "text/plain": [
       "RandomizedSearchCV(cv=5, estimator=RandomForestRegressor(), n_iter=100,\n",
       "                   param_distributions={'bootstrap': [True, False],\n",
       "                                        'max_depth': [2, 5, 10],\n",
       "                                        'max_features': ['sqrt', 'log2'],\n",
       "                                        'min_samples_leaf': [2, 5, 10],\n",
       "                                        'min_samples_split': [2, 5, 10],\n",
       "                                        'n_estimators': [50, 100, 150, 200],\n",
       "                                        'oob_score': [True, False]})"
      ]
     },
     "execution_count": 22,
     "metadata": {},
     "output_type": "execute_result"
    }
   ],
   "source": [
    "# Define parameter grid\n",
    "param_grid = {\n",
    "    'n_estimators': [50,100,150,200],\n",
    "    'max_depth': [2,5,10],\n",
    "    'min_samples_split': [2,5,10],\n",
    "    'min_samples_leaf': [2,5,10],\n",
    "    'max_features': ['sqrt', 'log2'],\n",
    "    'bootstrap': [True, False],\n",
    "    'oob_score': [True, False]\n",
    "}\n",
    "\n",
    "# Perform grid search\n",
    "random_search = RandomizedSearchCV(rfr, param_grid, cv=5, n_iter=100)\n",
    "random_search.fit(x_train_scaled,y_train)"
   ]
  },
  {
   "cell_type": "code",
   "execution_count": 23,
   "id": "6e9c65fa",
   "metadata": {},
   "outputs": [
    {
     "data": {
      "text/plain": [
       "{'oob_score': False,\n",
       " 'n_estimators': 200,\n",
       " 'min_samples_split': 10,\n",
       " 'min_samples_leaf': 2,\n",
       " 'max_features': 'sqrt',\n",
       " 'max_depth': 10,\n",
       " 'bootstrap': False}"
      ]
     },
     "execution_count": 23,
     "metadata": {},
     "output_type": "execute_result"
    }
   ],
   "source": [
    "# Get the best parameters\n",
    "best_params = random_search.best_params_\n",
    "best_params"
   ]
  },
  {
   "cell_type": "code",
   "execution_count": 24,
   "id": "2ef8bdc3",
   "metadata": {},
   "outputs": [
    {
     "data": {
      "text/plain": [
       "RandomForestRegressor(bootstrap=False, max_depth=10, max_features='sqrt',\n",
       "                      min_samples_leaf=2, min_samples_split=10,\n",
       "                      n_estimators=200)"
      ]
     },
     "execution_count": 24,
     "metadata": {},
     "output_type": "execute_result"
    }
   ],
   "source": [
    "random_search.best_estimator_"
   ]
  },
  {
   "cell_type": "code",
   "execution_count": 25,
   "id": "703ad410",
   "metadata": {},
   "outputs": [
    {
     "name": "stdout",
     "output_type": "stream",
     "text": [
      "Train Acurracy Score 0.99 Test Acurracy Score 0.99\n",
      "Train MAE Score:  5.873065263906387 Test MAE Score:  5.97\n",
      "************************************************************\n"
     ]
    }
   ],
   "source": [
    "y_train_pred = random_search.best_estimator_.predict(x_train_scaled)\n",
    "y_test_pred = random_search.best_estimator_.predict(x_test_scaled)\n",
    "print(\"Train Acurracy Score\", round(rfr.score(x_train_scaled,y_train),2),\"Test Acurracy Score\", round(rfr.score(x_test_scaled,y_test),2))\n",
    "print(\"Train MAE Score: \", mean_absolute_error(y_train_pred,y_train),\"Test MAE Score: \", round(mean_absolute_error(y_test_pred,y_test),2))\n",
    "print(\"*\"*60)"
   ]
  },
  {
   "cell_type": "code",
   "execution_count": 26,
   "id": "123e1d90",
   "metadata": {},
   "outputs": [
    {
     "data": {
      "text/plain": [
       "['age_group',\n",
       " 'type_of_admission',\n",
       " 'ccs_diagnosis_description',\n",
       " 'ccs_procedure_description',\n",
       " 'apr_drg_description',\n",
       " 'apr_mdc_description',\n",
       " 'apr_severity_of_illness_description',\n",
       " 'apr_risk_of_mortality',\n",
       " 'gender_M',\n",
       " 'apr_medical_surgical_description_Surgical',\n",
       " 'emergency_department_indicator_Y']"
      ]
     },
     "execution_count": 26,
     "metadata": {},
     "output_type": "execute_result"
    }
   ],
   "source": [
    "# list for features names\n",
    "features = list(x_train.columns)\n",
    "features"
   ]
  },
  {
   "cell_type": "code",
   "execution_count": 27,
   "id": "ed6b11e8",
   "metadata": {},
   "outputs": [],
   "source": [
    "# saving random search bet model estimator to variables\n",
    "rfr_model = random_search.best_estimator_"
   ]
  },
  {
   "cell_type": "code",
   "execution_count": 28,
   "id": "f01960d8",
   "metadata": {},
   "outputs": [
    {
     "data": {
      "text/plain": [
       "['../models/scaler.h5']"
      ]
     },
     "execution_count": 28,
     "metadata": {},
     "output_type": "execute_result"
    }
   ],
   "source": [
    "# creating h5 files for randomforest models for length of stay\n",
    "joblib.dump(knnr,\"../models/knnr.h5\")\n",
    "joblib.dump(rfr,\"../models/rfr.h5\")\n",
    "joblib.dump(rfr_model,\"../models/rfr_model.h5\")\n",
    "joblib.dump(features,\"../models/features.h5\")\n",
    "joblib.dump(scaler,\"../models/scaler.h5\")"
   ]
  },
  {
   "cell_type": "markdown",
   "id": "8115e497",
   "metadata": {},
   "source": [
    "# **Summary:**\n",
    "\n",
    "Although the model demonstrated an impressive training and testing accuracy of 99%, the results were based on a minimal 0.01% sample size of the original data, carefully selected using stratified sampling. While this model shows promise, it cannot yet be considered ready for generalization. To achieve that level of trust and applicability, further investment in terms of time, computational resources, and extensive studies is required.\n",
    "\n",
    "Throughout this project, numerous techniques were explored in several different notebooks of preprocessing & modeling, encompassing feature selection, outlier handling, diverse encoding methods for various classification and regression models, and cross-validation techniques. These endeavors represent a comprehensive effort to develop a robust predictive model for inpatient length of stay. \n",
    "\n",
    "The journey has been informative, revealing both the potential of machine learning in healthcare and the challenges associated with working on real-world, large-scale datasets. Continued research, collaboration, and refinements are essential for building a truly reliable and widely applicable solution.\n"
   ]
  }
 ],
 "metadata": {
  "kernelspec": {
   "display_name": "Python 3 (ipykernel)",
   "language": "python",
   "name": "python3"
  },
  "language_info": {
   "codemirror_mode": {
    "name": "ipython",
    "version": 3
   },
   "file_extension": ".py",
   "mimetype": "text/x-python",
   "name": "python",
   "nbconvert_exporter": "python",
   "pygments_lexer": "ipython3",
   "version": "3.7.15"
  }
 },
 "nbformat": 4,
 "nbformat_minor": 5
}
