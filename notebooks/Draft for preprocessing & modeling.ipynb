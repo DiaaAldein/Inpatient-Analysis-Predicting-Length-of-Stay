{
 "cells": [
  {
   "cell_type": "code",
   "execution_count": 1,
   "id": "d06a6b9d",
   "metadata": {},
   "outputs": [],
   "source": [
    "import numpy as np\n",
    "import pandas as pd\n",
    "import seaborn as sns\n",
    "import matplotlib.pyplot as plt\n",
    "from sklearn.model_selection import train_test_split\n",
    "from sklearn.preprocessing import StandardScaler,RobustScaler,PolynomialFeatures\n",
    "from sklearn.linear_model import LinearRegression,LogisticRegression\n",
    "from sklearn.neighbors import KNeighborsRegressor,KNeighborsClassifier\n",
    "from sklearn.naive_bayes import GaussianNB\n",
    "from sklearn.svm import SVC,SVR\n",
    "from sklearn.ensemble import RandomForestClassifier,RandomForestRegressor\n",
    "from sklearn.metrics import accuracy_score,recall_score,precision_score\n",
    "from imblearn.under_sampling import RandomUnderSampler\n",
    "from datasist.structdata import detect_outliers\n",
    "from sklearn.impute import KNNImputer"
   ]
  },
  {
   "cell_type": "code",
   "execution_count": 2,
   "id": "41261953",
   "metadata": {},
   "outputs": [],
   "source": [
    "# loading the dataset.\n",
    "data = pd.read_csv('../data/processed/processed_data.csv')"
   ]
  },
  {
   "cell_type": "code",
   "execution_count": 3,
   "id": "896240f3",
   "metadata": {},
   "outputs": [
    {
     "data": {
      "text/html": [
       "<div>\n",
       "<style scoped>\n",
       "    .dataframe tbody tr th:only-of-type {\n",
       "        vertical-align: middle;\n",
       "    }\n",
       "\n",
       "    .dataframe tbody tr th {\n",
       "        vertical-align: top;\n",
       "    }\n",
       "\n",
       "    .dataframe thead th {\n",
       "        text-align: right;\n",
       "    }\n",
       "</style>\n",
       "<table border=\"1\" class=\"dataframe\">\n",
       "  <thead>\n",
       "    <tr style=\"text-align: right;\">\n",
       "      <th></th>\n",
       "      <th>age_group</th>\n",
       "      <th>length_of_stay</th>\n",
       "      <th>ccs_diagnosis_description</th>\n",
       "      <th>ccs_procedure_description</th>\n",
       "      <th>apr_severity_of_illness_description</th>\n",
       "      <th>gender_M</th>\n",
       "      <th>type_of_admission_Emergency</th>\n",
       "      <th>type_of_admission_Newborn</th>\n",
       "      <th>type_of_admission_Not Available</th>\n",
       "      <th>type_of_admission_Trauma</th>\n",
       "      <th>type_of_admission_Urgent</th>\n",
       "      <th>apr_medical_surgical_description_Surgical</th>\n",
       "    </tr>\n",
       "  </thead>\n",
       "  <tbody>\n",
       "    <tr>\n",
       "      <th>0</th>\n",
       "      <td>4</td>\n",
       "      <td>5</td>\n",
       "      <td>10.0</td>\n",
       "      <td>5.0</td>\n",
       "      <td>1</td>\n",
       "      <td>0</td>\n",
       "      <td>1</td>\n",
       "      <td>0</td>\n",
       "      <td>0</td>\n",
       "      <td>0</td>\n",
       "      <td>0</td>\n",
       "      <td>0</td>\n",
       "    </tr>\n",
       "    <tr>\n",
       "      <th>1</th>\n",
       "      <td>2</td>\n",
       "      <td>8</td>\n",
       "      <td>10.0</td>\n",
       "      <td>5.0</td>\n",
       "      <td>2</td>\n",
       "      <td>0</td>\n",
       "      <td>1</td>\n",
       "      <td>0</td>\n",
       "      <td>0</td>\n",
       "      <td>0</td>\n",
       "      <td>0</td>\n",
       "      <td>0</td>\n",
       "    </tr>\n",
       "    <tr>\n",
       "      <th>2</th>\n",
       "      <td>3</td>\n",
       "      <td>8</td>\n",
       "      <td>10.0</td>\n",
       "      <td>5.0</td>\n",
       "      <td>1</td>\n",
       "      <td>1</td>\n",
       "      <td>1</td>\n",
       "      <td>0</td>\n",
       "      <td>0</td>\n",
       "      <td>0</td>\n",
       "      <td>0</td>\n",
       "      <td>0</td>\n",
       "    </tr>\n",
       "    <tr>\n",
       "      <th>3</th>\n",
       "      <td>4</td>\n",
       "      <td>4</td>\n",
       "      <td>3.0</td>\n",
       "      <td>5.0</td>\n",
       "      <td>1</td>\n",
       "      <td>0</td>\n",
       "      <td>1</td>\n",
       "      <td>0</td>\n",
       "      <td>0</td>\n",
       "      <td>0</td>\n",
       "      <td>0</td>\n",
       "      <td>0</td>\n",
       "    </tr>\n",
       "    <tr>\n",
       "      <th>4</th>\n",
       "      <td>4</td>\n",
       "      <td>3</td>\n",
       "      <td>4.0</td>\n",
       "      <td>5.0</td>\n",
       "      <td>2</td>\n",
       "      <td>1</td>\n",
       "      <td>1</td>\n",
       "      <td>0</td>\n",
       "      <td>0</td>\n",
       "      <td>0</td>\n",
       "      <td>0</td>\n",
       "      <td>0</td>\n",
       "    </tr>\n",
       "    <tr>\n",
       "      <th>...</th>\n",
       "      <td>...</td>\n",
       "      <td>...</td>\n",
       "      <td>...</td>\n",
       "      <td>...</td>\n",
       "      <td>...</td>\n",
       "      <td>...</td>\n",
       "      <td>...</td>\n",
       "      <td>...</td>\n",
       "      <td>...</td>\n",
       "      <td>...</td>\n",
       "      <td>...</td>\n",
       "      <td>...</td>\n",
       "    </tr>\n",
       "    <tr>\n",
       "      <th>193510</th>\n",
       "      <td>3</td>\n",
       "      <td>3</td>\n",
       "      <td>8.0</td>\n",
       "      <td>10.0</td>\n",
       "      <td>3</td>\n",
       "      <td>1</td>\n",
       "      <td>1</td>\n",
       "      <td>0</td>\n",
       "      <td>0</td>\n",
       "      <td>0</td>\n",
       "      <td>0</td>\n",
       "      <td>1</td>\n",
       "    </tr>\n",
       "    <tr>\n",
       "      <th>193511</th>\n",
       "      <td>5</td>\n",
       "      <td>11</td>\n",
       "      <td>10.0</td>\n",
       "      <td>8.0</td>\n",
       "      <td>2</td>\n",
       "      <td>1</td>\n",
       "      <td>1</td>\n",
       "      <td>0</td>\n",
       "      <td>0</td>\n",
       "      <td>0</td>\n",
       "      <td>0</td>\n",
       "      <td>1</td>\n",
       "    </tr>\n",
       "    <tr>\n",
       "      <th>193512</th>\n",
       "      <td>2</td>\n",
       "      <td>5</td>\n",
       "      <td>2.0</td>\n",
       "      <td>2.0</td>\n",
       "      <td>1</td>\n",
       "      <td>0</td>\n",
       "      <td>0</td>\n",
       "      <td>0</td>\n",
       "      <td>0</td>\n",
       "      <td>0</td>\n",
       "      <td>1</td>\n",
       "      <td>1</td>\n",
       "    </tr>\n",
       "    <tr>\n",
       "      <th>193513</th>\n",
       "      <td>2</td>\n",
       "      <td>13</td>\n",
       "      <td>17.0</td>\n",
       "      <td>5.0</td>\n",
       "      <td>2</td>\n",
       "      <td>0</td>\n",
       "      <td>0</td>\n",
       "      <td>0</td>\n",
       "      <td>0</td>\n",
       "      <td>0</td>\n",
       "      <td>1</td>\n",
       "      <td>0</td>\n",
       "    </tr>\n",
       "    <tr>\n",
       "      <th>193514</th>\n",
       "      <td>5</td>\n",
       "      <td>2</td>\n",
       "      <td>9.0</td>\n",
       "      <td>4.0</td>\n",
       "      <td>4</td>\n",
       "      <td>0</td>\n",
       "      <td>1</td>\n",
       "      <td>0</td>\n",
       "      <td>0</td>\n",
       "      <td>0</td>\n",
       "      <td>0</td>\n",
       "      <td>1</td>\n",
       "    </tr>\n",
       "  </tbody>\n",
       "</table>\n",
       "<p>193515 rows × 12 columns</p>\n",
       "</div>"
      ],
      "text/plain": [
       "        age_group  length_of_stay  ccs_diagnosis_description  \\\n",
       "0               4               5                       10.0   \n",
       "1               2               8                       10.0   \n",
       "2               3               8                       10.0   \n",
       "3               4               4                        3.0   \n",
       "4               4               3                        4.0   \n",
       "...           ...             ...                        ...   \n",
       "193510          3               3                        8.0   \n",
       "193511          5              11                       10.0   \n",
       "193512          2               5                        2.0   \n",
       "193513          2              13                       17.0   \n",
       "193514          5               2                        9.0   \n",
       "\n",
       "        ccs_procedure_description  apr_severity_of_illness_description  \\\n",
       "0                             5.0                                    1   \n",
       "1                             5.0                                    2   \n",
       "2                             5.0                                    1   \n",
       "3                             5.0                                    1   \n",
       "4                             5.0                                    2   \n",
       "...                           ...                                  ...   \n",
       "193510                       10.0                                    3   \n",
       "193511                        8.0                                    2   \n",
       "193512                        2.0                                    1   \n",
       "193513                        5.0                                    2   \n",
       "193514                        4.0                                    4   \n",
       "\n",
       "        gender_M  type_of_admission_Emergency  type_of_admission_Newborn  \\\n",
       "0              0                            1                          0   \n",
       "1              0                            1                          0   \n",
       "2              1                            1                          0   \n",
       "3              0                            1                          0   \n",
       "4              1                            1                          0   \n",
       "...          ...                          ...                        ...   \n",
       "193510         1                            1                          0   \n",
       "193511         1                            1                          0   \n",
       "193512         0                            0                          0   \n",
       "193513         0                            0                          0   \n",
       "193514         0                            1                          0   \n",
       "\n",
       "        type_of_admission_Not Available  type_of_admission_Trauma  \\\n",
       "0                                     0                         0   \n",
       "1                                     0                         0   \n",
       "2                                     0                         0   \n",
       "3                                     0                         0   \n",
       "4                                     0                         0   \n",
       "...                                 ...                       ...   \n",
       "193510                                0                         0   \n",
       "193511                                0                         0   \n",
       "193512                                0                         0   \n",
       "193513                                0                         0   \n",
       "193514                                0                         0   \n",
       "\n",
       "        type_of_admission_Urgent  apr_medical_surgical_description_Surgical  \n",
       "0                              0                                          0  \n",
       "1                              0                                          0  \n",
       "2                              0                                          0  \n",
       "3                              0                                          0  \n",
       "4                              0                                          0  \n",
       "...                          ...                                        ...  \n",
       "193510                         0                                          1  \n",
       "193511                         0                                          1  \n",
       "193512                         1                                          1  \n",
       "193513                         1                                          0  \n",
       "193514                         0                                          1  \n",
       "\n",
       "[193515 rows x 12 columns]"
      ]
     },
     "execution_count": 3,
     "metadata": {},
     "output_type": "execute_result"
    }
   ],
   "source": [
    "data"
   ]
  },
  {
   "cell_type": "code",
   "execution_count": 4,
   "id": "89f053c9",
   "metadata": {},
   "outputs": [
    {
     "data": {
      "text/plain": [
       "0"
      ]
     },
     "execution_count": 4,
     "metadata": {},
     "output_type": "execute_result"
    }
   ],
   "source": [
    "#checking for duplication in data \n",
    "data.duplicated().sum()"
   ]
  },
  {
   "cell_type": "code",
   "execution_count": 5,
   "id": "efd4d2ac",
   "metadata": {},
   "outputs": [
    {
     "name": "stdout",
     "output_type": "stream",
     "text": [
      "<class 'pandas.core.frame.DataFrame'>\n",
      "RangeIndex: 193515 entries, 0 to 193514\n",
      "Data columns (total 12 columns):\n",
      " #   Column                                     Non-Null Count   Dtype  \n",
      "---  ------                                     --------------   -----  \n",
      " 0   age_group                                  193515 non-null  int64  \n",
      " 1   length_of_stay                             193515 non-null  int64  \n",
      " 2   ccs_diagnosis_description                  193515 non-null  float64\n",
      " 3   ccs_procedure_description                  193515 non-null  float64\n",
      " 4   apr_severity_of_illness_description        193515 non-null  int64  \n",
      " 5   gender_M                                   193515 non-null  int64  \n",
      " 6   type_of_admission_Emergency                193515 non-null  int64  \n",
      " 7   type_of_admission_Newborn                  193515 non-null  int64  \n",
      " 8   type_of_admission_Not Available            193515 non-null  int64  \n",
      " 9   type_of_admission_Trauma                   193515 non-null  int64  \n",
      " 10  type_of_admission_Urgent                   193515 non-null  int64  \n",
      " 11  apr_medical_surgical_description_Surgical  193515 non-null  int64  \n",
      "dtypes: float64(2), int64(10)\n",
      "memory usage: 17.7 MB\n"
     ]
    }
   ],
   "source": [
    "# Geitting Information about the Data\n",
    "data.info()"
   ]
  },
  {
   "cell_type": "code",
   "execution_count": 6,
   "id": "491fe202",
   "metadata": {},
   "outputs": [],
   "source": [
    "# getting copy of the data set\n",
    "df = data.copy()"
   ]
  },
  {
   "cell_type": "code",
   "execution_count": 7,
   "id": "8c0b1408",
   "metadata": {},
   "outputs": [
    {
     "data": {
      "text/html": [
       "<div>\n",
       "<style scoped>\n",
       "    .dataframe tbody tr th:only-of-type {\n",
       "        vertical-align: middle;\n",
       "    }\n",
       "\n",
       "    .dataframe tbody tr th {\n",
       "        vertical-align: top;\n",
       "    }\n",
       "\n",
       "    .dataframe thead th {\n",
       "        text-align: right;\n",
       "    }\n",
       "</style>\n",
       "<table border=\"1\" class=\"dataframe\">\n",
       "  <thead>\n",
       "    <tr style=\"text-align: right;\">\n",
       "      <th></th>\n",
       "      <th>age_group</th>\n",
       "      <th>length_of_stay</th>\n",
       "      <th>ccs_diagnosis_description</th>\n",
       "      <th>ccs_procedure_description</th>\n",
       "      <th>apr_severity_of_illness_description</th>\n",
       "      <th>gender_M</th>\n",
       "      <th>type_of_admission_Emergency</th>\n",
       "      <th>type_of_admission_Newborn</th>\n",
       "      <th>type_of_admission_Not Available</th>\n",
       "      <th>type_of_admission_Trauma</th>\n",
       "      <th>type_of_admission_Urgent</th>\n",
       "      <th>apr_medical_surgical_description_Surgical</th>\n",
       "    </tr>\n",
       "  </thead>\n",
       "  <tbody>\n",
       "    <tr>\n",
       "      <th>count</th>\n",
       "      <td>193515.000000</td>\n",
       "      <td>193515.000000</td>\n",
       "      <td>193515.000000</td>\n",
       "      <td>193515.000000</td>\n",
       "      <td>193515.000000</td>\n",
       "      <td>193515.000000</td>\n",
       "      <td>193515.000000</td>\n",
       "      <td>193515.000000</td>\n",
       "      <td>193515.000000</td>\n",
       "      <td>193515.000000</td>\n",
       "      <td>193515.000000</td>\n",
       "      <td>193515.000000</td>\n",
       "    </tr>\n",
       "    <tr>\n",
       "      <th>mean</th>\n",
       "      <td>3.549751</td>\n",
       "      <td>16.002217</td>\n",
       "      <td>7.505754</td>\n",
       "      <td>8.365930</td>\n",
       "      <td>2.635956</td>\n",
       "      <td>0.510121</td>\n",
       "      <td>0.541111</td>\n",
       "      <td>0.016795</td>\n",
       "      <td>0.004837</td>\n",
       "      <td>0.019812</td>\n",
       "      <td>0.183603</td>\n",
       "      <td>0.416112</td>\n",
       "    </tr>\n",
       "    <tr>\n",
       "      <th>std</th>\n",
       "      <td>1.300368</td>\n",
       "      <td>18.350912</td>\n",
       "      <td>3.878398</td>\n",
       "      <td>5.395328</td>\n",
       "      <td>1.018068</td>\n",
       "      <td>0.499899</td>\n",
       "      <td>0.498308</td>\n",
       "      <td>0.128501</td>\n",
       "      <td>0.069379</td>\n",
       "      <td>0.139356</td>\n",
       "      <td>0.387161</td>\n",
       "      <td>0.492914</td>\n",
       "    </tr>\n",
       "    <tr>\n",
       "      <th>min</th>\n",
       "      <td>1.000000</td>\n",
       "      <td>1.000000</td>\n",
       "      <td>2.000000</td>\n",
       "      <td>1.000000</td>\n",
       "      <td>1.000000</td>\n",
       "      <td>0.000000</td>\n",
       "      <td>0.000000</td>\n",
       "      <td>0.000000</td>\n",
       "      <td>0.000000</td>\n",
       "      <td>0.000000</td>\n",
       "      <td>0.000000</td>\n",
       "      <td>0.000000</td>\n",
       "    </tr>\n",
       "    <tr>\n",
       "      <th>25%</th>\n",
       "      <td>3.000000</td>\n",
       "      <td>5.000000</td>\n",
       "      <td>5.000000</td>\n",
       "      <td>5.000000</td>\n",
       "      <td>2.000000</td>\n",
       "      <td>0.000000</td>\n",
       "      <td>0.000000</td>\n",
       "      <td>0.000000</td>\n",
       "      <td>0.000000</td>\n",
       "      <td>0.000000</td>\n",
       "      <td>0.000000</td>\n",
       "      <td>0.000000</td>\n",
       "    </tr>\n",
       "    <tr>\n",
       "      <th>50%</th>\n",
       "      <td>4.000000</td>\n",
       "      <td>10.000000</td>\n",
       "      <td>7.000000</td>\n",
       "      <td>7.000000</td>\n",
       "      <td>3.000000</td>\n",
       "      <td>1.000000</td>\n",
       "      <td>1.000000</td>\n",
       "      <td>0.000000</td>\n",
       "      <td>0.000000</td>\n",
       "      <td>0.000000</td>\n",
       "      <td>0.000000</td>\n",
       "      <td>0.000000</td>\n",
       "    </tr>\n",
       "    <tr>\n",
       "      <th>75%</th>\n",
       "      <td>5.000000</td>\n",
       "      <td>20.000000</td>\n",
       "      <td>9.000000</td>\n",
       "      <td>10.000000</td>\n",
       "      <td>3.000000</td>\n",
       "      <td>1.000000</td>\n",
       "      <td>1.000000</td>\n",
       "      <td>0.000000</td>\n",
       "      <td>0.000000</td>\n",
       "      <td>0.000000</td>\n",
       "      <td>0.000000</td>\n",
       "      <td>1.000000</td>\n",
       "    </tr>\n",
       "    <tr>\n",
       "      <th>max</th>\n",
       "      <td>5.000000</td>\n",
       "      <td>120.000000</td>\n",
       "      <td>32.000000</td>\n",
       "      <td>41.000000</td>\n",
       "      <td>4.000000</td>\n",
       "      <td>1.000000</td>\n",
       "      <td>1.000000</td>\n",
       "      <td>1.000000</td>\n",
       "      <td>1.000000</td>\n",
       "      <td>1.000000</td>\n",
       "      <td>1.000000</td>\n",
       "      <td>1.000000</td>\n",
       "    </tr>\n",
       "  </tbody>\n",
       "</table>\n",
       "</div>"
      ],
      "text/plain": [
       "           age_group  length_of_stay  ccs_diagnosis_description  \\\n",
       "count  193515.000000   193515.000000              193515.000000   \n",
       "mean        3.549751       16.002217                   7.505754   \n",
       "std         1.300368       18.350912                   3.878398   \n",
       "min         1.000000        1.000000                   2.000000   \n",
       "25%         3.000000        5.000000                   5.000000   \n",
       "50%         4.000000       10.000000                   7.000000   \n",
       "75%         5.000000       20.000000                   9.000000   \n",
       "max         5.000000      120.000000                  32.000000   \n",
       "\n",
       "       ccs_procedure_description  apr_severity_of_illness_description  \\\n",
       "count              193515.000000                        193515.000000   \n",
       "mean                    8.365930                             2.635956   \n",
       "std                     5.395328                             1.018068   \n",
       "min                     1.000000                             1.000000   \n",
       "25%                     5.000000                             2.000000   \n",
       "50%                     7.000000                             3.000000   \n",
       "75%                    10.000000                             3.000000   \n",
       "max                    41.000000                             4.000000   \n",
       "\n",
       "            gender_M  type_of_admission_Emergency  type_of_admission_Newborn  \\\n",
       "count  193515.000000                193515.000000              193515.000000   \n",
       "mean        0.510121                     0.541111                   0.016795   \n",
       "std         0.499899                     0.498308                   0.128501   \n",
       "min         0.000000                     0.000000                   0.000000   \n",
       "25%         0.000000                     0.000000                   0.000000   \n",
       "50%         1.000000                     1.000000                   0.000000   \n",
       "75%         1.000000                     1.000000                   0.000000   \n",
       "max         1.000000                     1.000000                   1.000000   \n",
       "\n",
       "       type_of_admission_Not Available  type_of_admission_Trauma  \\\n",
       "count                    193515.000000             193515.000000   \n",
       "mean                          0.004837                  0.019812   \n",
       "std                           0.069379                  0.139356   \n",
       "min                           0.000000                  0.000000   \n",
       "25%                           0.000000                  0.000000   \n",
       "50%                           0.000000                  0.000000   \n",
       "75%                           0.000000                  0.000000   \n",
       "max                           1.000000                  1.000000   \n",
       "\n",
       "       type_of_admission_Urgent  apr_medical_surgical_description_Surgical  \n",
       "count             193515.000000                              193515.000000  \n",
       "mean                   0.183603                                   0.416112  \n",
       "std                    0.387161                                   0.492914  \n",
       "min                    0.000000                                   0.000000  \n",
       "25%                    0.000000                                   0.000000  \n",
       "50%                    0.000000                                   0.000000  \n",
       "75%                    0.000000                                   1.000000  \n",
       "max                    1.000000                                   1.000000  "
      ]
     },
     "execution_count": 7,
     "metadata": {},
     "output_type": "execute_result"
    }
   ],
   "source": [
    "df.describe()"
   ]
  },
  {
   "cell_type": "markdown",
   "id": "44dc0d73",
   "metadata": {},
   "source": [
    "### Although the size of the data after cleaning and preprocessing decreese greatly to 385,003 instance and 14 features but it is still challenging to deal with for limted pressoer laptob so we are going take small sample to run the models more efficently while maintaing the same chracterstic of the data by usin straitify method."
   ]
  },
  {
   "cell_type": "code",
   "execution_count": 8,
   "id": "5e68d3e1",
   "metadata": {},
   "outputs": [],
   "source": [
    "# sampled_data = df.sample(n=20000, st= df['length_of_stay'])"
   ]
  },
  {
   "cell_type": "code",
   "execution_count": 9,
   "id": "3dc26286",
   "metadata": {},
   "outputs": [],
   "source": [
    "x = df.drop(\"length_of_stay\", axis = 1)\n",
    "y = df[\"length_of_stay\"]"
   ]
  },
  {
   "cell_type": "code",
   "execution_count": 10,
   "id": "4f6b6f30",
   "metadata": {},
   "outputs": [],
   "source": [
    "main_x,sample_x,main_y,sample_y = train_test_split(x,y,test_size=0.05,random_state=42,stratify=y)"
   ]
  },
  {
   "cell_type": "code",
   "execution_count": 11,
   "id": "f8e6bbdb",
   "metadata": {},
   "outputs": [],
   "source": [
    "x_train,x_test,y_train,y_test = train_test_split(sample_x,sample_y,test_size=0.3)"
   ]
  },
  {
   "cell_type": "code",
   "execution_count": 12,
   "id": "0e909fc5",
   "metadata": {},
   "outputs": [
    {
     "data": {
      "text/plain": [
       "6773"
      ]
     },
     "execution_count": 12,
     "metadata": {},
     "output_type": "execute_result"
    }
   ],
   "source": [
    "len(y_train)"
   ]
  },
  {
   "cell_type": "code",
   "execution_count": 13,
   "id": "1777ff3e",
   "metadata": {},
   "outputs": [],
   "source": [
    "scaler = StandardScaler()\n",
    "x_train_scaled = scaler.fit_transform(x_train)\n",
    "x_test_scaled = scaler.transform(x_test)"
   ]
  },
  {
   "cell_type": "code",
   "execution_count": 14,
   "id": "038937a8",
   "metadata": {},
   "outputs": [
    {
     "data": {
      "text/plain": [
       "LinearRegression()"
      ]
     },
     "execution_count": 14,
     "metadata": {},
     "output_type": "execute_result"
    }
   ],
   "source": [
    "lr = LinearRegression()\n",
    "lr.fit(x_train_scaled,y_train)"
   ]
  },
  {
   "cell_type": "code",
   "execution_count": 15,
   "id": "baa67c61",
   "metadata": {},
   "outputs": [
    {
     "name": "stdout",
     "output_type": "stream",
     "text": [
      "Train Score 0.16382055728313283\n",
      "Test Score 0.17735894958277587\n"
     ]
    }
   ],
   "source": [
    "print('Train Score', lr.score(x_train_scaled,y_train))\n",
    "print('Test Score', lr.score(x_test_scaled,y_test))"
   ]
  },
  {
   "cell_type": "code",
   "execution_count": 16,
   "id": "ffa3216c",
   "metadata": {},
   "outputs": [],
   "source": [
    "knnr = KNeighborsRegressor()"
   ]
  },
  {
   "cell_type": "code",
   "execution_count": 17,
   "id": "ef8b2300",
   "metadata": {},
   "outputs": [
    {
     "data": {
      "text/plain": [
       "KNeighborsRegressor()"
      ]
     },
     "execution_count": 17,
     "metadata": {},
     "output_type": "execute_result"
    }
   ],
   "source": [
    "knnr.fit(x_train_scaled,y_train)"
   ]
  },
  {
   "cell_type": "code",
   "execution_count": 18,
   "id": "b925c715",
   "metadata": {},
   "outputs": [
    {
     "name": "stdout",
     "output_type": "stream",
     "text": [
      "Train Score 0.4011977827781278\n",
      "Test Score 0.12609409063499843\n"
     ]
    }
   ],
   "source": [
    "print('Train Score', knnr.score(x_train_scaled,y_train))\n",
    "print('Test Score', knnr.score(x_test_scaled,y_test))"
   ]
  },
  {
   "cell_type": "code",
   "execution_count": 19,
   "id": "e28066b3",
   "metadata": {},
   "outputs": [
    {
     "data": {
      "text/plain": [
       "RandomForestRegressor()"
      ]
     },
     "execution_count": 19,
     "metadata": {},
     "output_type": "execute_result"
    }
   ],
   "source": [
    "rfr = RandomForestRegressor()\n",
    "rfr.fit(x_train_scaled,y_train)"
   ]
  },
  {
   "cell_type": "code",
   "execution_count": 20,
   "id": "f52eccff",
   "metadata": {},
   "outputs": [
    {
     "name": "stdout",
     "output_type": "stream",
     "text": [
      "Train Score 0.7178743939287664\n",
      "Test Score 0.1165692405744887\n"
     ]
    }
   ],
   "source": [
    "print('Train Score', rfr.score(x_train_scaled,y_train))\n",
    "print('Test Score', rfr.score(x_test_scaled,y_test))"
   ]
  },
  {
   "cell_type": "code",
   "execution_count": 21,
   "id": "52d2116e",
   "metadata": {},
   "outputs": [],
   "source": [
    "col_name = list(x_train.columns)"
   ]
  },
  {
   "cell_type": "code",
   "execution_count": 22,
   "id": "43ef368b",
   "metadata": {},
   "outputs": [],
   "source": [
    "feat_imp = list(rfr.feature_importances_)"
   ]
  },
  {
   "cell_type": "code",
   "execution_count": 23,
   "id": "d8b69ba7",
   "metadata": {},
   "outputs": [],
   "source": [
    "feat_imp_df = pd.DataFrame({\"col_name\":col_name,\"feat_imp\":feat_imp})"
   ]
  },
  {
   "cell_type": "code",
   "execution_count": 24,
   "id": "29243402",
   "metadata": {},
   "outputs": [
    {
     "data": {
      "text/html": [
       "<div>\n",
       "<style scoped>\n",
       "    .dataframe tbody tr th:only-of-type {\n",
       "        vertical-align: middle;\n",
       "    }\n",
       "\n",
       "    .dataframe tbody tr th {\n",
       "        vertical-align: top;\n",
       "    }\n",
       "\n",
       "    .dataframe thead th {\n",
       "        text-align: right;\n",
       "    }\n",
       "</style>\n",
       "<table border=\"1\" class=\"dataframe\">\n",
       "  <thead>\n",
       "    <tr style=\"text-align: right;\">\n",
       "      <th></th>\n",
       "      <th>col_name</th>\n",
       "      <th>feat_imp</th>\n",
       "    </tr>\n",
       "  </thead>\n",
       "  <tbody>\n",
       "    <tr>\n",
       "      <th>8</th>\n",
       "      <td>type_of_admission_Trauma</td>\n",
       "      <td>0.004735</td>\n",
       "    </tr>\n",
       "    <tr>\n",
       "      <th>7</th>\n",
       "      <td>type_of_admission_Not Available</td>\n",
       "      <td>0.007229</td>\n",
       "    </tr>\n",
       "    <tr>\n",
       "      <th>6</th>\n",
       "      <td>type_of_admission_Newborn</td>\n",
       "      <td>0.035579</td>\n",
       "    </tr>\n",
       "    <tr>\n",
       "      <th>10</th>\n",
       "      <td>apr_medical_surgical_description_Surgical</td>\n",
       "      <td>0.038658</td>\n",
       "    </tr>\n",
       "    <tr>\n",
       "      <th>9</th>\n",
       "      <td>type_of_admission_Urgent</td>\n",
       "      <td>0.040973</td>\n",
       "    </tr>\n",
       "    <tr>\n",
       "      <th>5</th>\n",
       "      <td>type_of_admission_Emergency</td>\n",
       "      <td>0.048175</td>\n",
       "    </tr>\n",
       "    <tr>\n",
       "      <th>4</th>\n",
       "      <td>gender_M</td>\n",
       "      <td>0.083637</td>\n",
       "    </tr>\n",
       "    <tr>\n",
       "      <th>3</th>\n",
       "      <td>apr_severity_of_illness_description</td>\n",
       "      <td>0.144772</td>\n",
       "    </tr>\n",
       "    <tr>\n",
       "      <th>0</th>\n",
       "      <td>age_group</td>\n",
       "      <td>0.155585</td>\n",
       "    </tr>\n",
       "    <tr>\n",
       "      <th>1</th>\n",
       "      <td>ccs_diagnosis_description</td>\n",
       "      <td>0.216228</td>\n",
       "    </tr>\n",
       "    <tr>\n",
       "      <th>2</th>\n",
       "      <td>ccs_procedure_description</td>\n",
       "      <td>0.224428</td>\n",
       "    </tr>\n",
       "  </tbody>\n",
       "</table>\n",
       "</div>"
      ],
      "text/plain": [
       "                                     col_name  feat_imp\n",
       "8                    type_of_admission_Trauma  0.004735\n",
       "7             type_of_admission_Not Available  0.007229\n",
       "6                   type_of_admission_Newborn  0.035579\n",
       "10  apr_medical_surgical_description_Surgical  0.038658\n",
       "9                    type_of_admission_Urgent  0.040973\n",
       "5                 type_of_admission_Emergency  0.048175\n",
       "4                                    gender_M  0.083637\n",
       "3         apr_severity_of_illness_description  0.144772\n",
       "0                                   age_group  0.155585\n",
       "1                   ccs_diagnosis_description  0.216228\n",
       "2                   ccs_procedure_description  0.224428"
      ]
     },
     "execution_count": 24,
     "metadata": {},
     "output_type": "execute_result"
    }
   ],
   "source": [
    "feat_imp_df[['col_name','feat_imp']].sort_values(by='feat_imp')"
   ]
  },
  {
   "cell_type": "markdown",
   "id": "0488b0f0",
   "metadata": {},
   "source": [
    "* as we can see from the above the following features has less than 0.05 importancy we are going to drop them ['type_of_admission_Not Available','type_of_admission_Trauma','type_of_admission_Newborn','apr_medical_surgical_description_Surgical','type_of_admission_Urgent','type_of_admission_Emergency']"
   ]
  },
  {
   "cell_type": "code",
   "execution_count": 25,
   "id": "7be69d78",
   "metadata": {},
   "outputs": [],
   "source": [
    "# we well drop them from both x_train & x_test\n",
    "x_train.drop(['type_of_admission_Not Available','type_of_admission_Trauma','type_of_admission_Newborn','apr_medical_surgical_description_Surgical','type_of_admission_Urgent','type_of_admission_Emergency'],axis=1,inplace=True)"
   ]
  },
  {
   "cell_type": "code",
   "execution_count": 26,
   "id": "61150ecc",
   "metadata": {},
   "outputs": [],
   "source": [
    "x_test.drop(['type_of_admission_Not Available','type_of_admission_Trauma','type_of_admission_Newborn','apr_medical_surgical_description_Surgical','type_of_admission_Urgent','type_of_admission_Emergency'],axis=1,inplace=True)"
   ]
  },
  {
   "cell_type": "code",
   "execution_count": 27,
   "id": "8def8572",
   "metadata": {},
   "outputs": [],
   "source": [
    "x_train['length_of_stay'] = y_train"
   ]
  },
  {
   "cell_type": "code",
   "execution_count": 28,
   "id": "49133464",
   "metadata": {},
   "outputs": [],
   "source": [
    "x_train.drop('length_of_stay',axis=1,inplace=True)"
   ]
  },
  {
   "cell_type": "code",
   "execution_count": 29,
   "id": "873e2afb",
   "metadata": {},
   "outputs": [
    {
     "data": {
      "text/html": [
       "<div>\n",
       "<style scoped>\n",
       "    .dataframe tbody tr th:only-of-type {\n",
       "        vertical-align: middle;\n",
       "    }\n",
       "\n",
       "    .dataframe tbody tr th {\n",
       "        vertical-align: top;\n",
       "    }\n",
       "\n",
       "    .dataframe thead th {\n",
       "        text-align: right;\n",
       "    }\n",
       "</style>\n",
       "<table border=\"1\" class=\"dataframe\">\n",
       "  <thead>\n",
       "    <tr style=\"text-align: right;\">\n",
       "      <th></th>\n",
       "      <th>age_group</th>\n",
       "      <th>ccs_diagnosis_description</th>\n",
       "      <th>ccs_procedure_description</th>\n",
       "      <th>apr_severity_of_illness_description</th>\n",
       "      <th>gender_M</th>\n",
       "    </tr>\n",
       "  </thead>\n",
       "  <tbody>\n",
       "    <tr>\n",
       "      <th>178405</th>\n",
       "      <td>2</td>\n",
       "      <td>7.0</td>\n",
       "      <td>10.0</td>\n",
       "      <td>2</td>\n",
       "      <td>0</td>\n",
       "    </tr>\n",
       "    <tr>\n",
       "      <th>95869</th>\n",
       "      <td>5</td>\n",
       "      <td>4.0</td>\n",
       "      <td>12.0</td>\n",
       "      <td>4</td>\n",
       "      <td>1</td>\n",
       "    </tr>\n",
       "    <tr>\n",
       "      <th>33261</th>\n",
       "      <td>4</td>\n",
       "      <td>4.0</td>\n",
       "      <td>8.0</td>\n",
       "      <td>2</td>\n",
       "      <td>1</td>\n",
       "    </tr>\n",
       "    <tr>\n",
       "      <th>108086</th>\n",
       "      <td>4</td>\n",
       "      <td>3.0</td>\n",
       "      <td>7.0</td>\n",
       "      <td>2</td>\n",
       "      <td>1</td>\n",
       "    </tr>\n",
       "    <tr>\n",
       "      <th>90571</th>\n",
       "      <td>2</td>\n",
       "      <td>17.0</td>\n",
       "      <td>5.0</td>\n",
       "      <td>3</td>\n",
       "      <td>1</td>\n",
       "    </tr>\n",
       "  </tbody>\n",
       "</table>\n",
       "</div>"
      ],
      "text/plain": [
       "        age_group  ccs_diagnosis_description  ccs_procedure_description  \\\n",
       "178405          2                        7.0                       10.0   \n",
       "95869           5                        4.0                       12.0   \n",
       "33261           4                        4.0                        8.0   \n",
       "108086          4                        3.0                        7.0   \n",
       "90571           2                       17.0                        5.0   \n",
       "\n",
       "        apr_severity_of_illness_description  gender_M  \n",
       "178405                                    2         0  \n",
       "95869                                     4         1  \n",
       "33261                                     2         1  \n",
       "108086                                    2         1  \n",
       "90571                                     3         1  "
      ]
     },
     "execution_count": 29,
     "metadata": {},
     "output_type": "execute_result"
    }
   ],
   "source": [
    "x_train.head()"
   ]
  },
  {
   "cell_type": "code",
   "execution_count": 30,
   "id": "c3172c3a",
   "metadata": {},
   "outputs": [],
   "source": [
    "scaler = StandardScaler()\n",
    "x_train_scaled = scaler.fit_transform(x_train)\n",
    "x_test_scaled = scaler.transform(x_test)"
   ]
  },
  {
   "cell_type": "code",
   "execution_count": 31,
   "id": "f9171993",
   "metadata": {},
   "outputs": [
    {
     "data": {
      "text/plain": [
       "LinearRegression()"
      ]
     },
     "execution_count": 31,
     "metadata": {},
     "output_type": "execute_result"
    }
   ],
   "source": [
    "lr = LinearRegression()\n",
    "lr.fit(x_train_scaled,y_train)"
   ]
  },
  {
   "cell_type": "code",
   "execution_count": 32,
   "id": "ff43c20e",
   "metadata": {},
   "outputs": [
    {
     "name": "stdout",
     "output_type": "stream",
     "text": [
      "Train Score 0.13726359827988732\n",
      "Test Score 0.13896352122494549\n"
     ]
    }
   ],
   "source": [
    "print('Train Score', lr.score(x_train_scaled,y_train))\n",
    "print('Test Score', lr.score(x_test_scaled,y_test))"
   ]
  },
  {
   "cell_type": "code",
   "execution_count": 33,
   "id": "e3cf9ee8",
   "metadata": {},
   "outputs": [],
   "source": [
    "poly = PolynomialFeatures(degree=3)\n",
    "x_train_poly = poly.fit_transform(x_train_scaled)\n",
    "x_test_poly = poly.transform(x_test_scaled)"
   ]
  },
  {
   "cell_type": "code",
   "execution_count": 34,
   "id": "9aa4b51a",
   "metadata": {},
   "outputs": [
    {
     "data": {
      "text/plain": [
       "LinearRegression()"
      ]
     },
     "execution_count": 34,
     "metadata": {},
     "output_type": "execute_result"
    }
   ],
   "source": [
    "lr = LinearRegression()\n",
    "lr.fit(x_train_poly,y_train)"
   ]
  },
  {
   "cell_type": "code",
   "execution_count": 35,
   "id": "ec5a7932",
   "metadata": {},
   "outputs": [
    {
     "name": "stdout",
     "output_type": "stream",
     "text": [
      "Train Score 0.17294779848142228\n",
      "Test Score 0.15604461116329105\n"
     ]
    }
   ],
   "source": [
    "print('Train Score', lr.score(x_train_poly,y_train))\n",
    "print('Test Score', lr.score(x_test_poly,y_test))"
   ]
  },
  {
   "cell_type": "code",
   "execution_count": 36,
   "id": "e17935f9",
   "metadata": {},
   "outputs": [
    {
     "data": {
      "text/plain": [
       "RandomForestRegressor(max_depth=15, max_leaf_nodes=10)"
      ]
     },
     "execution_count": 36,
     "metadata": {},
     "output_type": "execute_result"
    }
   ],
   "source": [
    "rfr = RandomForestRegressor(max_depth=15,max_leaf_nodes=10)\n",
    "rfr.fit(x_train_poly,y_train)"
   ]
  },
  {
   "cell_type": "code",
   "execution_count": 37,
   "id": "6f97c9cc",
   "metadata": {},
   "outputs": [
    {
     "name": "stdout",
     "output_type": "stream",
     "text": [
      "Train Score 0.19186554208865414\n",
      "Test Score 0.1591127347001695\n"
     ]
    }
   ],
   "source": [
    "print('Train Score', rfr.score(x_train_poly,y_train))\n",
    "print('Test Score', rfr.score(x_test_poly,y_test))"
   ]
  },
  {
   "cell_type": "code",
   "execution_count": 38,
   "id": "402ff310",
   "metadata": {},
   "outputs": [
    {
     "data": {
      "text/plain": [
       "GaussianNB()"
      ]
     },
     "execution_count": 38,
     "metadata": {},
     "output_type": "execute_result"
    }
   ],
   "source": [
    "gnb = GaussianNB()\n",
    "gnb.fit(x_train_poly,y_train)"
   ]
  },
  {
   "cell_type": "code",
   "execution_count": 39,
   "id": "4085a134",
   "metadata": {},
   "outputs": [
    {
     "name": "stdout",
     "output_type": "stream",
     "text": [
      "Train Score 0.028643141886903884\n",
      "Test Score 0.01584567688598002\n"
     ]
    }
   ],
   "source": [
    "print('Train Score', gnb.score(x_train_poly,y_train))\n",
    "print('Test Score', gnb.score(x_test_poly,y_test))"
   ]
  },
  {
   "cell_type": "code",
   "execution_count": 40,
   "id": "7458f384",
   "metadata": {},
   "outputs": [
    {
     "data": {
      "text/plain": [
       "KNeighborsRegressor(n_neighbors=11)"
      ]
     },
     "execution_count": 40,
     "metadata": {},
     "output_type": "execute_result"
    }
   ],
   "source": [
    "knnr = KNeighborsRegressor(n_neighbors=11)\n",
    "knnr.fit(x_train_poly,y_train)"
   ]
  },
  {
   "cell_type": "code",
   "execution_count": 41,
   "id": "64e57805",
   "metadata": {},
   "outputs": [
    {
     "name": "stdout",
     "output_type": "stream",
     "text": [
      "Train Score 0.267128705473781\n",
      "Test Score 0.13960387431702603\n"
     ]
    }
   ],
   "source": [
    "print('Train Score', knnr.score(x_train_poly,y_train))\n",
    "print('Test Score', knnr.score(x_test_poly,y_test))"
   ]
  },
  {
   "cell_type": "code",
   "execution_count": 42,
   "id": "4cff658d",
   "metadata": {},
   "outputs": [],
   "source": [
    "# trying different models to compare between them\n",
    "models = {\"Liner Regression\": LinearRegression(),\n",
    "          \"KNN\": KNeighborsRegressor(n_neighbors=7),\n",
    "          \"SVR\": SVR(),\n",
    "          \"NB\": GaussianNB(),\n",
    "          \"RF\": RandomForestRegressor(n_estimators=100, n_jobs=-1)}"
   ]
  },
  {
   "cell_type": "code",
   "execution_count": 43,
   "id": "f51d40b3",
   "metadata": {},
   "outputs": [
    {
     "name": "stdout",
     "output_type": "stream",
     "text": [
      "-----------  Liner Regression  -------------\n",
      "Train Score 0.17294779848142228\n",
      "Test Score 0.15604461116329105\n",
      "------------------------------------------------------------\n",
      "-----------  KNN  -------------\n",
      "Train Score 0.30741477035715015\n",
      "Test Score 0.11610655016350657\n",
      "------------------------------------------------------------\n",
      "-----------  SVR  -------------\n",
      "Train Score 0.05931143412307083\n",
      "Test Score 0.046573886461219405\n",
      "------------------------------------------------------------\n",
      "-----------  NB  -------------\n",
      "Train Score 0.028643141886903884\n",
      "Test Score 0.01584567688598002\n",
      "------------------------------------------------------------\n",
      "-----------  RF  -------------\n",
      "Train Score 0.5209629383020928\n",
      "Test Score 0.04441048033473871\n",
      "------------------------------------------------------------\n"
     ]
    }
   ],
   "source": [
    "for name,model in models.items():\n",
    "    print(\"----------- \", name, \" -------------\")\n",
    "    model.fit(x_train_poly,y_train)\n",
    "    print('Train Score', model.score(x_train_poly,y_train))\n",
    "    print('Test Score', model.score(x_test_poly,y_test))\n",
    "    print(\"-\"*60)"
   ]
  },
  {
   "cell_type": "code",
   "execution_count": 44,
   "id": "8ed9b168",
   "metadata": {},
   "outputs": [],
   "source": [
    "df2 = sample_x.copy()"
   ]
  },
  {
   "cell_type": "code",
   "execution_count": 45,
   "id": "2cbd94ee",
   "metadata": {},
   "outputs": [],
   "source": [
    "df2['length_of_stay'] = sample_y "
   ]
  },
  {
   "cell_type": "code",
   "execution_count": 46,
   "id": "1f16fd9f",
   "metadata": {},
   "outputs": [
    {
     "data": {
      "text/html": [
       "<div>\n",
       "<style scoped>\n",
       "    .dataframe tbody tr th:only-of-type {\n",
       "        vertical-align: middle;\n",
       "    }\n",
       "\n",
       "    .dataframe tbody tr th {\n",
       "        vertical-align: top;\n",
       "    }\n",
       "\n",
       "    .dataframe thead th {\n",
       "        text-align: right;\n",
       "    }\n",
       "</style>\n",
       "<table border=\"1\" class=\"dataframe\">\n",
       "  <thead>\n",
       "    <tr style=\"text-align: right;\">\n",
       "      <th></th>\n",
       "      <th>age_group</th>\n",
       "      <th>ccs_diagnosis_description</th>\n",
       "      <th>ccs_procedure_description</th>\n",
       "      <th>apr_severity_of_illness_description</th>\n",
       "      <th>gender_M</th>\n",
       "      <th>type_of_admission_Emergency</th>\n",
       "      <th>type_of_admission_Newborn</th>\n",
       "      <th>type_of_admission_Not Available</th>\n",
       "      <th>type_of_admission_Trauma</th>\n",
       "      <th>type_of_admission_Urgent</th>\n",
       "      <th>apr_medical_surgical_description_Surgical</th>\n",
       "      <th>length_of_stay</th>\n",
       "    </tr>\n",
       "  </thead>\n",
       "  <tbody>\n",
       "    <tr>\n",
       "      <th>19716</th>\n",
       "      <td>4</td>\n",
       "      <td>6.0</td>\n",
       "      <td>13.0</td>\n",
       "      <td>2</td>\n",
       "      <td>0</td>\n",
       "      <td>1</td>\n",
       "      <td>0</td>\n",
       "      <td>0</td>\n",
       "      <td>0</td>\n",
       "      <td>0</td>\n",
       "      <td>1</td>\n",
       "      <td>5</td>\n",
       "    </tr>\n",
       "    <tr>\n",
       "      <th>12180</th>\n",
       "      <td>4</td>\n",
       "      <td>7.0</td>\n",
       "      <td>9.0</td>\n",
       "      <td>4</td>\n",
       "      <td>0</td>\n",
       "      <td>1</td>\n",
       "      <td>0</td>\n",
       "      <td>0</td>\n",
       "      <td>0</td>\n",
       "      <td>0</td>\n",
       "      <td>1</td>\n",
       "      <td>12</td>\n",
       "    </tr>\n",
       "    <tr>\n",
       "      <th>86473</th>\n",
       "      <td>2</td>\n",
       "      <td>9.0</td>\n",
       "      <td>9.0</td>\n",
       "      <td>2</td>\n",
       "      <td>1</td>\n",
       "      <td>1</td>\n",
       "      <td>0</td>\n",
       "      <td>0</td>\n",
       "      <td>0</td>\n",
       "      <td>0</td>\n",
       "      <td>0</td>\n",
       "      <td>5</td>\n",
       "    </tr>\n",
       "    <tr>\n",
       "      <th>171409</th>\n",
       "      <td>3</td>\n",
       "      <td>4.0</td>\n",
       "      <td>10.0</td>\n",
       "      <td>3</td>\n",
       "      <td>1</td>\n",
       "      <td>1</td>\n",
       "      <td>0</td>\n",
       "      <td>0</td>\n",
       "      <td>0</td>\n",
       "      <td>0</td>\n",
       "      <td>0</td>\n",
       "      <td>28</td>\n",
       "    </tr>\n",
       "    <tr>\n",
       "      <th>118522</th>\n",
       "      <td>1</td>\n",
       "      <td>3.0</td>\n",
       "      <td>11.0</td>\n",
       "      <td>4</td>\n",
       "      <td>1</td>\n",
       "      <td>1</td>\n",
       "      <td>0</td>\n",
       "      <td>0</td>\n",
       "      <td>0</td>\n",
       "      <td>0</td>\n",
       "      <td>0</td>\n",
       "      <td>3</td>\n",
       "    </tr>\n",
       "    <tr>\n",
       "      <th>...</th>\n",
       "      <td>...</td>\n",
       "      <td>...</td>\n",
       "      <td>...</td>\n",
       "      <td>...</td>\n",
       "      <td>...</td>\n",
       "      <td>...</td>\n",
       "      <td>...</td>\n",
       "      <td>...</td>\n",
       "      <td>...</td>\n",
       "      <td>...</td>\n",
       "      <td>...</td>\n",
       "      <td>...</td>\n",
       "    </tr>\n",
       "    <tr>\n",
       "      <th>16474</th>\n",
       "      <td>2</td>\n",
       "      <td>6.0</td>\n",
       "      <td>7.0</td>\n",
       "      <td>2</td>\n",
       "      <td>1</td>\n",
       "      <td>0</td>\n",
       "      <td>0</td>\n",
       "      <td>0</td>\n",
       "      <td>0</td>\n",
       "      <td>0</td>\n",
       "      <td>0</td>\n",
       "      <td>1</td>\n",
       "    </tr>\n",
       "    <tr>\n",
       "      <th>36304</th>\n",
       "      <td>3</td>\n",
       "      <td>7.0</td>\n",
       "      <td>11.0</td>\n",
       "      <td>3</td>\n",
       "      <td>1</td>\n",
       "      <td>1</td>\n",
       "      <td>0</td>\n",
       "      <td>0</td>\n",
       "      <td>0</td>\n",
       "      <td>0</td>\n",
       "      <td>0</td>\n",
       "      <td>7</td>\n",
       "    </tr>\n",
       "    <tr>\n",
       "      <th>126604</th>\n",
       "      <td>2</td>\n",
       "      <td>6.0</td>\n",
       "      <td>6.0</td>\n",
       "      <td>2</td>\n",
       "      <td>0</td>\n",
       "      <td>1</td>\n",
       "      <td>0</td>\n",
       "      <td>0</td>\n",
       "      <td>0</td>\n",
       "      <td>0</td>\n",
       "      <td>0</td>\n",
       "      <td>52</td>\n",
       "    </tr>\n",
       "    <tr>\n",
       "      <th>13369</th>\n",
       "      <td>4</td>\n",
       "      <td>7.0</td>\n",
       "      <td>7.0</td>\n",
       "      <td>4</td>\n",
       "      <td>0</td>\n",
       "      <td>1</td>\n",
       "      <td>0</td>\n",
       "      <td>0</td>\n",
       "      <td>0</td>\n",
       "      <td>0</td>\n",
       "      <td>1</td>\n",
       "      <td>6</td>\n",
       "    </tr>\n",
       "    <tr>\n",
       "      <th>60253</th>\n",
       "      <td>5</td>\n",
       "      <td>10.0</td>\n",
       "      <td>5.0</td>\n",
       "      <td>4</td>\n",
       "      <td>0</td>\n",
       "      <td>1</td>\n",
       "      <td>0</td>\n",
       "      <td>0</td>\n",
       "      <td>0</td>\n",
       "      <td>0</td>\n",
       "      <td>0</td>\n",
       "      <td>17</td>\n",
       "    </tr>\n",
       "  </tbody>\n",
       "</table>\n",
       "<p>9676 rows × 12 columns</p>\n",
       "</div>"
      ],
      "text/plain": [
       "        age_group  ccs_diagnosis_description  ccs_procedure_description  \\\n",
       "19716           4                        6.0                       13.0   \n",
       "12180           4                        7.0                        9.0   \n",
       "86473           2                        9.0                        9.0   \n",
       "171409          3                        4.0                       10.0   \n",
       "118522          1                        3.0                       11.0   \n",
       "...           ...                        ...                        ...   \n",
       "16474           2                        6.0                        7.0   \n",
       "36304           3                        7.0                       11.0   \n",
       "126604          2                        6.0                        6.0   \n",
       "13369           4                        7.0                        7.0   \n",
       "60253           5                       10.0                        5.0   \n",
       "\n",
       "        apr_severity_of_illness_description  gender_M  \\\n",
       "19716                                     2         0   \n",
       "12180                                     4         0   \n",
       "86473                                     2         1   \n",
       "171409                                    3         1   \n",
       "118522                                    4         1   \n",
       "...                                     ...       ...   \n",
       "16474                                     2         1   \n",
       "36304                                     3         1   \n",
       "126604                                    2         0   \n",
       "13369                                     4         0   \n",
       "60253                                     4         0   \n",
       "\n",
       "        type_of_admission_Emergency  type_of_admission_Newborn  \\\n",
       "19716                             1                          0   \n",
       "12180                             1                          0   \n",
       "86473                             1                          0   \n",
       "171409                            1                          0   \n",
       "118522                            1                          0   \n",
       "...                             ...                        ...   \n",
       "16474                             0                          0   \n",
       "36304                             1                          0   \n",
       "126604                            1                          0   \n",
       "13369                             1                          0   \n",
       "60253                             1                          0   \n",
       "\n",
       "        type_of_admission_Not Available  type_of_admission_Trauma  \\\n",
       "19716                                 0                         0   \n",
       "12180                                 0                         0   \n",
       "86473                                 0                         0   \n",
       "171409                                0                         0   \n",
       "118522                                0                         0   \n",
       "...                                 ...                       ...   \n",
       "16474                                 0                         0   \n",
       "36304                                 0                         0   \n",
       "126604                                0                         0   \n",
       "13369                                 0                         0   \n",
       "60253                                 0                         0   \n",
       "\n",
       "        type_of_admission_Urgent  apr_medical_surgical_description_Surgical  \\\n",
       "19716                          0                                          1   \n",
       "12180                          0                                          1   \n",
       "86473                          0                                          0   \n",
       "171409                         0                                          0   \n",
       "118522                         0                                          0   \n",
       "...                          ...                                        ...   \n",
       "16474                          0                                          0   \n",
       "36304                          0                                          0   \n",
       "126604                         0                                          0   \n",
       "13369                          0                                          1   \n",
       "60253                          0                                          0   \n",
       "\n",
       "        length_of_stay  \n",
       "19716                5  \n",
       "12180               12  \n",
       "86473                5  \n",
       "171409              28  \n",
       "118522               3  \n",
       "...                ...  \n",
       "16474                1  \n",
       "36304                7  \n",
       "126604              52  \n",
       "13369                6  \n",
       "60253               17  \n",
       "\n",
       "[9676 rows x 12 columns]"
      ]
     },
     "execution_count": 46,
     "metadata": {},
     "output_type": "execute_result"
    }
   ],
   "source": [
    "df2"
   ]
  },
  {
   "cell_type": "code",
   "execution_count": 47,
   "id": "67602dac",
   "metadata": {},
   "outputs": [],
   "source": [
    "df2.drop(['type_of_admission_Not Available','type_of_admission_Trauma','type_of_admission_Newborn','apr_medical_surgical_description_Surgical','type_of_admission_Urgent','type_of_admission_Emergency'],axis=1,inplace=True)"
   ]
  },
  {
   "cell_type": "code",
   "execution_count": 48,
   "id": "88c165af",
   "metadata": {},
   "outputs": [
    {
     "data": {
      "text/html": [
       "<div>\n",
       "<style scoped>\n",
       "    .dataframe tbody tr th:only-of-type {\n",
       "        vertical-align: middle;\n",
       "    }\n",
       "\n",
       "    .dataframe tbody tr th {\n",
       "        vertical-align: top;\n",
       "    }\n",
       "\n",
       "    .dataframe thead th {\n",
       "        text-align: right;\n",
       "    }\n",
       "</style>\n",
       "<table border=\"1\" class=\"dataframe\">\n",
       "  <thead>\n",
       "    <tr style=\"text-align: right;\">\n",
       "      <th></th>\n",
       "      <th>age_group</th>\n",
       "      <th>ccs_diagnosis_description</th>\n",
       "      <th>ccs_procedure_description</th>\n",
       "      <th>apr_severity_of_illness_description</th>\n",
       "      <th>gender_M</th>\n",
       "      <th>length_of_stay</th>\n",
       "    </tr>\n",
       "  </thead>\n",
       "  <tbody>\n",
       "    <tr>\n",
       "      <th>19716</th>\n",
       "      <td>4</td>\n",
       "      <td>6.0</td>\n",
       "      <td>13.0</td>\n",
       "      <td>2</td>\n",
       "      <td>0</td>\n",
       "      <td>5</td>\n",
       "    </tr>\n",
       "    <tr>\n",
       "      <th>12180</th>\n",
       "      <td>4</td>\n",
       "      <td>7.0</td>\n",
       "      <td>9.0</td>\n",
       "      <td>4</td>\n",
       "      <td>0</td>\n",
       "      <td>12</td>\n",
       "    </tr>\n",
       "    <tr>\n",
       "      <th>86473</th>\n",
       "      <td>2</td>\n",
       "      <td>9.0</td>\n",
       "      <td>9.0</td>\n",
       "      <td>2</td>\n",
       "      <td>1</td>\n",
       "      <td>5</td>\n",
       "    </tr>\n",
       "    <tr>\n",
       "      <th>171409</th>\n",
       "      <td>3</td>\n",
       "      <td>4.0</td>\n",
       "      <td>10.0</td>\n",
       "      <td>3</td>\n",
       "      <td>1</td>\n",
       "      <td>28</td>\n",
       "    </tr>\n",
       "    <tr>\n",
       "      <th>118522</th>\n",
       "      <td>1</td>\n",
       "      <td>3.0</td>\n",
       "      <td>11.0</td>\n",
       "      <td>4</td>\n",
       "      <td>1</td>\n",
       "      <td>3</td>\n",
       "    </tr>\n",
       "    <tr>\n",
       "      <th>...</th>\n",
       "      <td>...</td>\n",
       "      <td>...</td>\n",
       "      <td>...</td>\n",
       "      <td>...</td>\n",
       "      <td>...</td>\n",
       "      <td>...</td>\n",
       "    </tr>\n",
       "    <tr>\n",
       "      <th>16474</th>\n",
       "      <td>2</td>\n",
       "      <td>6.0</td>\n",
       "      <td>7.0</td>\n",
       "      <td>2</td>\n",
       "      <td>1</td>\n",
       "      <td>1</td>\n",
       "    </tr>\n",
       "    <tr>\n",
       "      <th>36304</th>\n",
       "      <td>3</td>\n",
       "      <td>7.0</td>\n",
       "      <td>11.0</td>\n",
       "      <td>3</td>\n",
       "      <td>1</td>\n",
       "      <td>7</td>\n",
       "    </tr>\n",
       "    <tr>\n",
       "      <th>126604</th>\n",
       "      <td>2</td>\n",
       "      <td>6.0</td>\n",
       "      <td>6.0</td>\n",
       "      <td>2</td>\n",
       "      <td>0</td>\n",
       "      <td>52</td>\n",
       "    </tr>\n",
       "    <tr>\n",
       "      <th>13369</th>\n",
       "      <td>4</td>\n",
       "      <td>7.0</td>\n",
       "      <td>7.0</td>\n",
       "      <td>4</td>\n",
       "      <td>0</td>\n",
       "      <td>6</td>\n",
       "    </tr>\n",
       "    <tr>\n",
       "      <th>60253</th>\n",
       "      <td>5</td>\n",
       "      <td>10.0</td>\n",
       "      <td>5.0</td>\n",
       "      <td>4</td>\n",
       "      <td>0</td>\n",
       "      <td>17</td>\n",
       "    </tr>\n",
       "  </tbody>\n",
       "</table>\n",
       "<p>9676 rows × 6 columns</p>\n",
       "</div>"
      ],
      "text/plain": [
       "        age_group  ccs_diagnosis_description  ccs_procedure_description  \\\n",
       "19716           4                        6.0                       13.0   \n",
       "12180           4                        7.0                        9.0   \n",
       "86473           2                        9.0                        9.0   \n",
       "171409          3                        4.0                       10.0   \n",
       "118522          1                        3.0                       11.0   \n",
       "...           ...                        ...                        ...   \n",
       "16474           2                        6.0                        7.0   \n",
       "36304           3                        7.0                       11.0   \n",
       "126604          2                        6.0                        6.0   \n",
       "13369           4                        7.0                        7.0   \n",
       "60253           5                       10.0                        5.0   \n",
       "\n",
       "        apr_severity_of_illness_description  gender_M  length_of_stay  \n",
       "19716                                     2         0               5  \n",
       "12180                                     4         0              12  \n",
       "86473                                     2         1               5  \n",
       "171409                                    3         1              28  \n",
       "118522                                    4         1               3  \n",
       "...                                     ...       ...             ...  \n",
       "16474                                     2         1               1  \n",
       "36304                                     3         1               7  \n",
       "126604                                    2         0              52  \n",
       "13369                                     4         0               6  \n",
       "60253                                     4         0              17  \n",
       "\n",
       "[9676 rows x 6 columns]"
      ]
     },
     "execution_count": 48,
     "metadata": {},
     "output_type": "execute_result"
    }
   ],
   "source": [
    "df2"
   ]
  },
  {
   "cell_type": "code",
   "execution_count": 49,
   "id": "9a1d7017",
   "metadata": {},
   "outputs": [
    {
     "data": {
      "text/plain": [
       "425"
      ]
     },
     "execution_count": 49,
     "metadata": {},
     "output_type": "execute_result"
    }
   ],
   "source": [
    "df2.duplicated().sum()"
   ]
  },
  {
   "cell_type": "code",
   "execution_count": 50,
   "id": "67426a65",
   "metadata": {},
   "outputs": [],
   "source": [
    "# Drop duplicates and reset the index\n",
    "df2 = df2.drop_duplicates().reset_index(drop=True)"
   ]
  },
  {
   "cell_type": "code",
   "execution_count": 51,
   "id": "43243a03",
   "metadata": {},
   "outputs": [
    {
     "data": {
      "text/plain": [
       "0"
      ]
     },
     "execution_count": 51,
     "metadata": {},
     "output_type": "execute_result"
    }
   ],
   "source": [
    "df2.duplicated().sum()"
   ]
  },
  {
   "cell_type": "code",
   "execution_count": 52,
   "id": "be58de70",
   "metadata": {},
   "outputs": [
    {
     "name": "stderr",
     "output_type": "stream",
     "text": [
      "C:\\Users\\hp\\anaconda3\\envs\\diaapython\\lib\\site-packages\\pandas\\core\\indexing.py:1732: SettingWithCopyWarning: \n",
      "A value is trying to be set on a copy of a slice from a DataFrame\n",
      "\n",
      "See the caveats in the documentation: https://pandas.pydata.org/pandas-docs/stable/user_guide/indexing.html#returning-a-view-versus-a-copy\n",
      "  self._setitem_single_block(indexer, value, name)\n"
     ]
    }
   ],
   "source": [
    "for col in list(df2.columns):\n",
    "    outliers_indices = detect_outliers(df2, 0, df2.columns)\n",
    "    col_mean = df2[col].mean()\n",
    "    df2[col].iloc[outliers_indices] = np.nan\n"
   ]
  },
  {
   "cell_type": "code",
   "execution_count": 53,
   "id": "198e0e57",
   "metadata": {},
   "outputs": [
    {
     "name": "stdout",
     "output_type": "stream",
     "text": [
      "<class 'pandas.core.frame.DataFrame'>\n",
      "RangeIndex: 9251 entries, 0 to 9250\n",
      "Data columns (total 6 columns):\n",
      " #   Column                               Non-Null Count  Dtype  \n",
      "---  ------                               --------------  -----  \n",
      " 0   age_group                            8094 non-null   float64\n",
      " 1   ccs_diagnosis_description            8094 non-null   float64\n",
      " 2   ccs_procedure_description            8474 non-null   float64\n",
      " 3   apr_severity_of_illness_description  8632 non-null   float64\n",
      " 4   gender_M                             8632 non-null   float64\n",
      " 5   length_of_stay                       8632 non-null   float64\n",
      "dtypes: float64(6)\n",
      "memory usage: 433.8 KB\n"
     ]
    }
   ],
   "source": [
    "df2.info()"
   ]
  },
  {
   "cell_type": "code",
   "execution_count": 54,
   "id": "3b801a9c",
   "metadata": {},
   "outputs": [
    {
     "data": {
      "text/html": [
       "<div>\n",
       "<style scoped>\n",
       "    .dataframe tbody tr th:only-of-type {\n",
       "        vertical-align: middle;\n",
       "    }\n",
       "\n",
       "    .dataframe tbody tr th {\n",
       "        vertical-align: top;\n",
       "    }\n",
       "\n",
       "    .dataframe thead th {\n",
       "        text-align: right;\n",
       "    }\n",
       "</style>\n",
       "<table border=\"1\" class=\"dataframe\">\n",
       "  <thead>\n",
       "    <tr style=\"text-align: right;\">\n",
       "      <th></th>\n",
       "      <th>age_group</th>\n",
       "      <th>ccs_diagnosis_description</th>\n",
       "      <th>ccs_procedure_description</th>\n",
       "      <th>apr_severity_of_illness_description</th>\n",
       "      <th>gender_M</th>\n",
       "      <th>length_of_stay</th>\n",
       "    </tr>\n",
       "  </thead>\n",
       "  <tbody>\n",
       "    <tr>\n",
       "      <th>count</th>\n",
       "      <td>8094.000000</td>\n",
       "      <td>8094.000000</td>\n",
       "      <td>8474.000000</td>\n",
       "      <td>8632.000000</td>\n",
       "      <td>8632.000000</td>\n",
       "      <td>8632.000000</td>\n",
       "    </tr>\n",
       "    <tr>\n",
       "      <th>mean</th>\n",
       "      <td>3.553126</td>\n",
       "      <td>6.910798</td>\n",
       "      <td>7.731296</td>\n",
       "      <td>2.603452</td>\n",
       "      <td>0.513786</td>\n",
       "      <td>12.427363</td>\n",
       "    </tr>\n",
       "    <tr>\n",
       "      <th>std</th>\n",
       "      <td>1.309824</td>\n",
       "      <td>2.935814</td>\n",
       "      <td>3.324376</td>\n",
       "      <td>1.005812</td>\n",
       "      <td>0.499839</td>\n",
       "      <td>10.183785</td>\n",
       "    </tr>\n",
       "    <tr>\n",
       "      <th>min</th>\n",
       "      <td>1.000000</td>\n",
       "      <td>2.000000</td>\n",
       "      <td>1.000000</td>\n",
       "      <td>1.000000</td>\n",
       "      <td>0.000000</td>\n",
       "      <td>1.000000</td>\n",
       "    </tr>\n",
       "    <tr>\n",
       "      <th>25%</th>\n",
       "      <td>3.000000</td>\n",
       "      <td>5.000000</td>\n",
       "      <td>5.000000</td>\n",
       "      <td>2.000000</td>\n",
       "      <td>0.000000</td>\n",
       "      <td>5.000000</td>\n",
       "    </tr>\n",
       "    <tr>\n",
       "      <th>50%</th>\n",
       "      <td>4.000000</td>\n",
       "      <td>6.000000</td>\n",
       "      <td>7.000000</td>\n",
       "      <td>3.000000</td>\n",
       "      <td>1.000000</td>\n",
       "      <td>9.000000</td>\n",
       "    </tr>\n",
       "    <tr>\n",
       "      <th>75%</th>\n",
       "      <td>5.000000</td>\n",
       "      <td>9.000000</td>\n",
       "      <td>10.000000</td>\n",
       "      <td>3.000000</td>\n",
       "      <td>1.000000</td>\n",
       "      <td>18.000000</td>\n",
       "    </tr>\n",
       "    <tr>\n",
       "      <th>max</th>\n",
       "      <td>5.000000</td>\n",
       "      <td>15.000000</td>\n",
       "      <td>17.000000</td>\n",
       "      <td>4.000000</td>\n",
       "      <td>1.000000</td>\n",
       "      <td>45.000000</td>\n",
       "    </tr>\n",
       "  </tbody>\n",
       "</table>\n",
       "</div>"
      ],
      "text/plain": [
       "         age_group  ccs_diagnosis_description  ccs_procedure_description  \\\n",
       "count  8094.000000                8094.000000                8474.000000   \n",
       "mean      3.553126                   6.910798                   7.731296   \n",
       "std       1.309824                   2.935814                   3.324376   \n",
       "min       1.000000                   2.000000                   1.000000   \n",
       "25%       3.000000                   5.000000                   5.000000   \n",
       "50%       4.000000                   6.000000                   7.000000   \n",
       "75%       5.000000                   9.000000                  10.000000   \n",
       "max       5.000000                  15.000000                  17.000000   \n",
       "\n",
       "       apr_severity_of_illness_description     gender_M  length_of_stay  \n",
       "count                          8632.000000  8632.000000     8632.000000  \n",
       "mean                              2.603452     0.513786       12.427363  \n",
       "std                               1.005812     0.499839       10.183785  \n",
       "min                               1.000000     0.000000        1.000000  \n",
       "25%                               2.000000     0.000000        5.000000  \n",
       "50%                               3.000000     1.000000        9.000000  \n",
       "75%                               3.000000     1.000000       18.000000  \n",
       "max                               4.000000     1.000000       45.000000  "
      ]
     },
     "execution_count": 54,
     "metadata": {},
     "output_type": "execute_result"
    }
   ],
   "source": [
    "df2.describe()"
   ]
  },
  {
   "cell_type": "code",
   "execution_count": 55,
   "id": "c549a16d",
   "metadata": {},
   "outputs": [],
   "source": [
    "# Create a KNN imputer with a specific number of neighbors\n",
    "imputer = KNNImputer(n_neighbors=2)"
   ]
  },
  {
   "cell_type": "code",
   "execution_count": 56,
   "id": "78251e58",
   "metadata": {},
   "outputs": [],
   "source": [
    "# Fit the imputer to your DataFrame and transform the data\n",
    "imputed_data = imputer.fit_transform(df2)"
   ]
  },
  {
   "cell_type": "code",
   "execution_count": 57,
   "id": "5c169c71",
   "metadata": {},
   "outputs": [],
   "source": [
    "imputed_df = pd.DataFrame(imputed_data, columns=df2.columns)"
   ]
  },
  {
   "cell_type": "code",
   "execution_count": 58,
   "id": "0119a067",
   "metadata": {},
   "outputs": [
    {
     "name": "stdout",
     "output_type": "stream",
     "text": [
      "<class 'pandas.core.frame.DataFrame'>\n",
      "RangeIndex: 9251 entries, 0 to 9250\n",
      "Data columns (total 6 columns):\n",
      " #   Column                               Non-Null Count  Dtype  \n",
      "---  ------                               --------------  -----  \n",
      " 0   age_group                            9251 non-null   float64\n",
      " 1   ccs_diagnosis_description            9251 non-null   float64\n",
      " 2   ccs_procedure_description            9251 non-null   float64\n",
      " 3   apr_severity_of_illness_description  9251 non-null   float64\n",
      " 4   gender_M                             9251 non-null   float64\n",
      " 5   length_of_stay                       9251 non-null   float64\n",
      "dtypes: float64(6)\n",
      "memory usage: 433.8 KB\n"
     ]
    }
   ],
   "source": [
    "imputed_df.info()"
   ]
  },
  {
   "cell_type": "code",
   "execution_count": 59,
   "id": "47609f8e",
   "metadata": {},
   "outputs": [
    {
     "data": {
      "text/plain": [
       "703"
      ]
     },
     "execution_count": 59,
     "metadata": {},
     "output_type": "execute_result"
    }
   ],
   "source": [
    "imputed_df.duplicated().sum()"
   ]
  },
  {
   "cell_type": "code",
   "execution_count": 60,
   "id": "10dfa804",
   "metadata": {},
   "outputs": [],
   "source": [
    "# Drop duplicates and reset the index\n",
    "imputed_df = imputed_df.drop_duplicates().reset_index(drop=True)"
   ]
  },
  {
   "cell_type": "code",
   "execution_count": 61,
   "id": "818f89ba",
   "metadata": {},
   "outputs": [
    {
     "data": {
      "text/plain": [
       "0"
      ]
     },
     "execution_count": 61,
     "metadata": {},
     "output_type": "execute_result"
    }
   ],
   "source": [
    "imputed_df.duplicated().sum()"
   ]
  },
  {
   "cell_type": "code",
   "execution_count": 62,
   "id": "b4a782a6",
   "metadata": {},
   "outputs": [
    {
     "data": {
      "text/html": [
       "<div>\n",
       "<style scoped>\n",
       "    .dataframe tbody tr th:only-of-type {\n",
       "        vertical-align: middle;\n",
       "    }\n",
       "\n",
       "    .dataframe tbody tr th {\n",
       "        vertical-align: top;\n",
       "    }\n",
       "\n",
       "    .dataframe thead th {\n",
       "        text-align: right;\n",
       "    }\n",
       "</style>\n",
       "<table border=\"1\" class=\"dataframe\">\n",
       "  <thead>\n",
       "    <tr style=\"text-align: right;\">\n",
       "      <th></th>\n",
       "      <th>age_group</th>\n",
       "      <th>ccs_diagnosis_description</th>\n",
       "      <th>ccs_procedure_description</th>\n",
       "      <th>apr_severity_of_illness_description</th>\n",
       "      <th>gender_M</th>\n",
       "      <th>length_of_stay</th>\n",
       "    </tr>\n",
       "  </thead>\n",
       "  <tbody>\n",
       "    <tr>\n",
       "      <th>count</th>\n",
       "      <td>8548.000000</td>\n",
       "      <td>8548.000000</td>\n",
       "      <td>8548.000000</td>\n",
       "      <td>8548.000000</td>\n",
       "      <td>8548.000000</td>\n",
       "      <td>8548.000000</td>\n",
       "    </tr>\n",
       "    <tr>\n",
       "      <th>mean</th>\n",
       "      <td>3.549082</td>\n",
       "      <td>6.947638</td>\n",
       "      <td>7.730139</td>\n",
       "      <td>2.603019</td>\n",
       "      <td>0.513046</td>\n",
       "      <td>12.382947</td>\n",
       "    </tr>\n",
       "    <tr>\n",
       "      <th>std</th>\n",
       "      <td>1.293378</td>\n",
       "      <td>2.903358</td>\n",
       "      <td>3.302250</td>\n",
       "      <td>1.005428</td>\n",
       "      <td>0.499830</td>\n",
       "      <td>10.149126</td>\n",
       "    </tr>\n",
       "    <tr>\n",
       "      <th>min</th>\n",
       "      <td>1.000000</td>\n",
       "      <td>2.000000</td>\n",
       "      <td>1.000000</td>\n",
       "      <td>1.000000</td>\n",
       "      <td>0.000000</td>\n",
       "      <td>1.000000</td>\n",
       "    </tr>\n",
       "    <tr>\n",
       "      <th>25%</th>\n",
       "      <td>3.000000</td>\n",
       "      <td>5.000000</td>\n",
       "      <td>5.000000</td>\n",
       "      <td>2.000000</td>\n",
       "      <td>0.000000</td>\n",
       "      <td>5.000000</td>\n",
       "    </tr>\n",
       "    <tr>\n",
       "      <th>50%</th>\n",
       "      <td>4.000000</td>\n",
       "      <td>7.000000</td>\n",
       "      <td>7.000000</td>\n",
       "      <td>3.000000</td>\n",
       "      <td>1.000000</td>\n",
       "      <td>9.000000</td>\n",
       "    </tr>\n",
       "    <tr>\n",
       "      <th>75%</th>\n",
       "      <td>5.000000</td>\n",
       "      <td>9.000000</td>\n",
       "      <td>10.000000</td>\n",
       "      <td>3.000000</td>\n",
       "      <td>1.000000</td>\n",
       "      <td>18.000000</td>\n",
       "    </tr>\n",
       "    <tr>\n",
       "      <th>max</th>\n",
       "      <td>5.000000</td>\n",
       "      <td>15.000000</td>\n",
       "      <td>17.000000</td>\n",
       "      <td>4.000000</td>\n",
       "      <td>1.000000</td>\n",
       "      <td>45.000000</td>\n",
       "    </tr>\n",
       "  </tbody>\n",
       "</table>\n",
       "</div>"
      ],
      "text/plain": [
       "         age_group  ccs_diagnosis_description  ccs_procedure_description  \\\n",
       "count  8548.000000                8548.000000                8548.000000   \n",
       "mean      3.549082                   6.947638                   7.730139   \n",
       "std       1.293378                   2.903358                   3.302250   \n",
       "min       1.000000                   2.000000                   1.000000   \n",
       "25%       3.000000                   5.000000                   5.000000   \n",
       "50%       4.000000                   7.000000                   7.000000   \n",
       "75%       5.000000                   9.000000                  10.000000   \n",
       "max       5.000000                  15.000000                  17.000000   \n",
       "\n",
       "       apr_severity_of_illness_description     gender_M  length_of_stay  \n",
       "count                          8548.000000  8548.000000     8548.000000  \n",
       "mean                              2.603019     0.513046       12.382947  \n",
       "std                               1.005428     0.499830       10.149126  \n",
       "min                               1.000000     0.000000        1.000000  \n",
       "25%                               2.000000     0.000000        5.000000  \n",
       "50%                               3.000000     1.000000        9.000000  \n",
       "75%                               3.000000     1.000000       18.000000  \n",
       "max                               4.000000     1.000000       45.000000  "
      ]
     },
     "execution_count": 62,
     "metadata": {},
     "output_type": "execute_result"
    }
   ],
   "source": [
    "imputed_df.describe()"
   ]
  },
  {
   "cell_type": "code",
   "execution_count": 63,
   "id": "ec58bf0c",
   "metadata": {},
   "outputs": [
    {
     "data": {
      "text/plain": [
       "age_group                              0\n",
       "ccs_diagnosis_description              0\n",
       "ccs_procedure_description              0\n",
       "apr_severity_of_illness_description    0\n",
       "gender_M                               0\n",
       "length_of_stay                         0\n",
       "dtype: int64"
      ]
     },
     "execution_count": 63,
     "metadata": {},
     "output_type": "execute_result"
    }
   ],
   "source": [
    "imputed_df.isnull().sum()"
   ]
  },
  {
   "cell_type": "code",
   "execution_count": 64,
   "id": "e8093ce8",
   "metadata": {},
   "outputs": [],
   "source": [
    "x = imputed_df.drop('length_of_stay',axis=1)\n",
    "y = imputed_df.length_of_stay"
   ]
  },
  {
   "cell_type": "code",
   "execution_count": 65,
   "id": "57aebab9",
   "metadata": {},
   "outputs": [],
   "source": [
    "x_train,x_test,y_train,y_test = train_test_split(x,y,test_size=0.2)"
   ]
  },
  {
   "cell_type": "code",
   "execution_count": 66,
   "id": "85d5afe8",
   "metadata": {},
   "outputs": [],
   "source": [
    "scaler = StandardScaler()\n",
    "x_train = scaler.fit_transform(x_train)\n",
    "x_test = scaler.transform(x_test)"
   ]
  },
  {
   "cell_type": "code",
   "execution_count": 67,
   "id": "a7cd998d",
   "metadata": {},
   "outputs": [],
   "source": [
    "# trying different models to compare between them\n",
    "models = {\"Liner Regression\": LinearRegression(),\n",
    "          \"KNN\": KNeighborsRegressor(n_neighbors=7),\n",
    "          \"SVR\": SVR(),\n",
    "          \"RF\": RandomForestRegressor(n_estimators=100, n_jobs=-1)}"
   ]
  },
  {
   "cell_type": "code",
   "execution_count": 68,
   "id": "9cf08d24",
   "metadata": {},
   "outputs": [
    {
     "name": "stdout",
     "output_type": "stream",
     "text": [
      "-----------  Liner Regression  -------------\n",
      "Train Score 0.12984081472280473\n",
      "Test Score 0.09133073188888541\n",
      "------------------------------------------------------------\n",
      "-----------  KNN  -------------\n",
      "Train Score 0.27924397704931936\n",
      "Test Score 0.0061541794209674094\n",
      "------------------------------------------------------------\n",
      "-----------  SVR  -------------\n",
      "Train Score 0.10708039422784388\n",
      "Test Score 0.06100904833336673\n",
      "------------------------------------------------------------\n",
      "-----------  RF  -------------\n",
      "Train Score 0.5054533950414389\n",
      "Test Score -0.09166278446923393\n",
      "------------------------------------------------------------\n"
     ]
    }
   ],
   "source": [
    "for name,model in models.items():\n",
    "    print(\"----------- \", name, \" -------------\")\n",
    "    model.fit(x_train,y_train)\n",
    "    print('Train Score', model.score(x_train,y_train))\n",
    "    print('Test Score', model.score(x_test,y_test))\n",
    "    print(\"-\"*60)"
   ]
  },
  {
   "cell_type": "code",
   "execution_count": 69,
   "id": "0649c9e7",
   "metadata": {},
   "outputs": [],
   "source": [
    "poly2 = PolynomialFeatures(degree=3)\n",
    "x_train_poly = poly2.fit_transform(x_train)\n",
    "x_test_poly = poly2.transform(x_test)"
   ]
  },
  {
   "cell_type": "code",
   "execution_count": 70,
   "id": "3a200d7d",
   "metadata": {},
   "outputs": [],
   "source": [
    "# trying different models to compare between them\n",
    "models = {\"Liner Regression\": LinearRegression(),\n",
    "          \"KNN\": KNeighborsRegressor(n_neighbors=5),\n",
    "          \"RF\": RandomForestRegressor()}"
   ]
  },
  {
   "cell_type": "code",
   "execution_count": 71,
   "id": "8bfee41c",
   "metadata": {},
   "outputs": [
    {
     "name": "stdout",
     "output_type": "stream",
     "text": [
      "-----------  Liner Regression  -------------\n",
      "Train Score 0.12984081472280473\n",
      "Test Score 0.09133073188888541\n",
      "------------------------------------------------------------\n",
      "-----------  KNN  -------------\n",
      "Train Score 0.3189806605665687\n",
      "Test Score -0.035452026427420735\n",
      "------------------------------------------------------------\n",
      "-----------  RF  -------------\n",
      "Train Score 0.5051542320695663\n",
      "Test Score -0.09262536939948518\n",
      "------------------------------------------------------------\n"
     ]
    }
   ],
   "source": [
    "for name,model in models.items():\n",
    "    print(\"----------- \", name, \" -------------\")\n",
    "    model.fit(x_train,y_train)\n",
    "    print('Train Score', model.score(x_train,y_train))\n",
    "    print('Test Score', model.score(x_test,y_test))\n",
    "    print(\"-\"*60)"
   ]
  },
  {
   "cell_type": "code",
   "execution_count": null,
   "id": "ff59a019",
   "metadata": {},
   "outputs": [],
   "source": []
  }
 ],
 "metadata": {
  "kernelspec": {
   "display_name": "Python 3 (ipykernel)",
   "language": "python",
   "name": "python3"
  },
  "language_info": {
   "codemirror_mode": {
    "name": "ipython",
    "version": 3
   },
   "file_extension": ".py",
   "mimetype": "text/x-python",
   "name": "python",
   "nbconvert_exporter": "python",
   "pygments_lexer": "ipython3",
   "version": "3.7.15"
  }
 },
 "nbformat": 4,
 "nbformat_minor": 5
}
