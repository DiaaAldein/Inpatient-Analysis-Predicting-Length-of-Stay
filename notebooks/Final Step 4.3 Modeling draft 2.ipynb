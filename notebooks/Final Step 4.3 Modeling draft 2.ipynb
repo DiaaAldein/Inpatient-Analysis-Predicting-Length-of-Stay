{
 "cells": [
  {
   "cell_type": "code",
   "execution_count": 24,
   "id": "dbe68aa8",
   "metadata": {},
   "outputs": [],
   "source": [
    "# Importing necessary libraries\n",
    "import pandas as pd\n",
    "import numpy as np\n",
    "from sklearn.model_selection import train_test_split\n",
    "from sklearn.preprocessing import StandardScaler,PolynomialFeatures\n",
    "from sklearn.linear_model import LinearRegression, LogisticRegression\n",
    "from sklearn.neighbors import KNeighborsRegressor, KNeighborsClassifier\n",
    "from sklearn.ensemble import RandomForestRegressor, RandomForestClassifier\n",
    "from sklearn.decomposition import PCA\n",
    "from sklearn.metrics import mean_absolute_error, recall_score,precision_score\n",
    "from imblearn.under_sampling import RandomUnderSampler\n",
    "from imblearn.over_sampling import SMOTE\n",
    "from sklearn.ensemble import AdaBoostRegressor,AdaBoostClassifier\n",
    "import xgboost as xgb\n",
    "from sklearn.model_selection import cross_validate,GridSearchCV,RandomizedSearchCV\n",
    "import joblib"
   ]
  },
  {
   "cell_type": "code",
   "execution_count": 2,
   "id": "2f8c0af9",
   "metadata": {},
   "outputs": [
    {
     "data": {
      "text/html": [
       "<div>\n",
       "<style scoped>\n",
       "    .dataframe tbody tr th:only-of-type {\n",
       "        vertical-align: middle;\n",
       "    }\n",
       "\n",
       "    .dataframe tbody tr th {\n",
       "        vertical-align: top;\n",
       "    }\n",
       "\n",
       "    .dataframe thead th {\n",
       "        text-align: right;\n",
       "    }\n",
       "</style>\n",
       "<table border=\"1\" class=\"dataframe\">\n",
       "  <thead>\n",
       "    <tr style=\"text-align: right;\">\n",
       "      <th></th>\n",
       "      <th>age_group</th>\n",
       "      <th>length_of_stay</th>\n",
       "      <th>type_of_admission</th>\n",
       "      <th>ccs_diagnosis_description</th>\n",
       "      <th>ccs_procedure_description</th>\n",
       "      <th>apr_drg_description</th>\n",
       "      <th>apr_mdc_description</th>\n",
       "      <th>apr_severity_of_illness_description</th>\n",
       "      <th>apr_risk_of_mortality</th>\n",
       "      <th>gender_M</th>\n",
       "      <th>apr_medical_surgical_description_Surgical</th>\n",
       "      <th>emergency_department_indicator_Y</th>\n",
       "    </tr>\n",
       "  </thead>\n",
       "  <tbody>\n",
       "    <tr>\n",
       "      <th>0</th>\n",
       "      <td>3</td>\n",
       "      <td>5</td>\n",
       "      <td>7.29</td>\n",
       "      <td>11.69</td>\n",
       "      <td>6.36</td>\n",
       "      <td>12.58</td>\n",
       "      <td>11.66</td>\n",
       "      <td>1</td>\n",
       "      <td>1</td>\n",
       "      <td>0</td>\n",
       "      <td>0</td>\n",
       "      <td>1</td>\n",
       "    </tr>\n",
       "    <tr>\n",
       "      <th>1</th>\n",
       "      <td>1</td>\n",
       "      <td>8</td>\n",
       "      <td>7.29</td>\n",
       "      <td>11.69</td>\n",
       "      <td>6.36</td>\n",
       "      <td>12.58</td>\n",
       "      <td>11.66</td>\n",
       "      <td>2</td>\n",
       "      <td>1</td>\n",
       "      <td>0</td>\n",
       "      <td>0</td>\n",
       "      <td>1</td>\n",
       "    </tr>\n",
       "    <tr>\n",
       "      <th>2</th>\n",
       "      <td>2</td>\n",
       "      <td>8</td>\n",
       "      <td>7.29</td>\n",
       "      <td>11.69</td>\n",
       "      <td>6.36</td>\n",
       "      <td>12.58</td>\n",
       "      <td>11.66</td>\n",
       "      <td>1</td>\n",
       "      <td>1</td>\n",
       "      <td>1</td>\n",
       "      <td>0</td>\n",
       "      <td>1</td>\n",
       "    </tr>\n",
       "    <tr>\n",
       "      <th>3</th>\n",
       "      <td>3</td>\n",
       "      <td>4</td>\n",
       "      <td>7.29</td>\n",
       "      <td>5.87</td>\n",
       "      <td>6.36</td>\n",
       "      <td>4.89</td>\n",
       "      <td>7.36</td>\n",
       "      <td>1</td>\n",
       "      <td>1</td>\n",
       "      <td>0</td>\n",
       "      <td>0</td>\n",
       "      <td>1</td>\n",
       "    </tr>\n",
       "    <tr>\n",
       "      <th>4</th>\n",
       "      <td>3</td>\n",
       "      <td>3</td>\n",
       "      <td>7.29</td>\n",
       "      <td>6.04</td>\n",
       "      <td>6.36</td>\n",
       "      <td>5.74</td>\n",
       "      <td>7.21</td>\n",
       "      <td>2</td>\n",
       "      <td>2</td>\n",
       "      <td>1</td>\n",
       "      <td>0</td>\n",
       "      <td>1</td>\n",
       "    </tr>\n",
       "    <tr>\n",
       "      <th>...</th>\n",
       "      <td>...</td>\n",
       "      <td>...</td>\n",
       "      <td>...</td>\n",
       "      <td>...</td>\n",
       "      <td>...</td>\n",
       "      <td>...</td>\n",
       "      <td>...</td>\n",
       "      <td>...</td>\n",
       "      <td>...</td>\n",
       "      <td>...</td>\n",
       "      <td>...</td>\n",
       "      <td>...</td>\n",
       "    </tr>\n",
       "    <tr>\n",
       "      <th>698106</th>\n",
       "      <td>3</td>\n",
       "      <td>3</td>\n",
       "      <td>7.29</td>\n",
       "      <td>8.01</td>\n",
       "      <td>6.16</td>\n",
       "      <td>5.38</td>\n",
       "      <td>6.91</td>\n",
       "      <td>3</td>\n",
       "      <td>3</td>\n",
       "      <td>0</td>\n",
       "      <td>1</td>\n",
       "      <td>1</td>\n",
       "    </tr>\n",
       "    <tr>\n",
       "      <th>698107</th>\n",
       "      <td>1</td>\n",
       "      <td>1</td>\n",
       "      <td>7.29</td>\n",
       "      <td>4.71</td>\n",
       "      <td>7.35</td>\n",
       "      <td>4.78</td>\n",
       "      <td>5.19</td>\n",
       "      <td>3</td>\n",
       "      <td>3</td>\n",
       "      <td>0</td>\n",
       "      <td>0</td>\n",
       "      <td>1</td>\n",
       "    </tr>\n",
       "    <tr>\n",
       "      <th>698108</th>\n",
       "      <td>4</td>\n",
       "      <td>3</td>\n",
       "      <td>7.29</td>\n",
       "      <td>6.85</td>\n",
       "      <td>4.51</td>\n",
       "      <td>6.66</td>\n",
       "      <td>6.91</td>\n",
       "      <td>3</td>\n",
       "      <td>3</td>\n",
       "      <td>1</td>\n",
       "      <td>0</td>\n",
       "      <td>1</td>\n",
       "    </tr>\n",
       "    <tr>\n",
       "      <th>698109</th>\n",
       "      <td>4</td>\n",
       "      <td>2</td>\n",
       "      <td>7.29</td>\n",
       "      <td>10.68</td>\n",
       "      <td>6.20</td>\n",
       "      <td>12.65</td>\n",
       "      <td>9.68</td>\n",
       "      <td>4</td>\n",
       "      <td>4</td>\n",
       "      <td>0</td>\n",
       "      <td>1</td>\n",
       "      <td>1</td>\n",
       "    </tr>\n",
       "    <tr>\n",
       "      <th>698110</th>\n",
       "      <td>3</td>\n",
       "      <td>2</td>\n",
       "      <td>7.21</td>\n",
       "      <td>11.69</td>\n",
       "      <td>6.36</td>\n",
       "      <td>11.93</td>\n",
       "      <td>11.66</td>\n",
       "      <td>1</td>\n",
       "      <td>1</td>\n",
       "      <td>1</td>\n",
       "      <td>0</td>\n",
       "      <td>0</td>\n",
       "    </tr>\n",
       "  </tbody>\n",
       "</table>\n",
       "<p>698111 rows × 12 columns</p>\n",
       "</div>"
      ],
      "text/plain": [
       "        age_group  length_of_stay  type_of_admission  \\\n",
       "0               3               5               7.29   \n",
       "1               1               8               7.29   \n",
       "2               2               8               7.29   \n",
       "3               3               4               7.29   \n",
       "4               3               3               7.29   \n",
       "...           ...             ...                ...   \n",
       "698106          3               3               7.29   \n",
       "698107          1               1               7.29   \n",
       "698108          4               3               7.29   \n",
       "698109          4               2               7.29   \n",
       "698110          3               2               7.21   \n",
       "\n",
       "        ccs_diagnosis_description  ccs_procedure_description  \\\n",
       "0                           11.69                       6.36   \n",
       "1                           11.69                       6.36   \n",
       "2                           11.69                       6.36   \n",
       "3                            5.87                       6.36   \n",
       "4                            6.04                       6.36   \n",
       "...                           ...                        ...   \n",
       "698106                       8.01                       6.16   \n",
       "698107                       4.71                       7.35   \n",
       "698108                       6.85                       4.51   \n",
       "698109                      10.68                       6.20   \n",
       "698110                      11.69                       6.36   \n",
       "\n",
       "        apr_drg_description  apr_mdc_description  \\\n",
       "0                     12.58                11.66   \n",
       "1                     12.58                11.66   \n",
       "2                     12.58                11.66   \n",
       "3                      4.89                 7.36   \n",
       "4                      5.74                 7.21   \n",
       "...                     ...                  ...   \n",
       "698106                 5.38                 6.91   \n",
       "698107                 4.78                 5.19   \n",
       "698108                 6.66                 6.91   \n",
       "698109                12.65                 9.68   \n",
       "698110                11.93                11.66   \n",
       "\n",
       "        apr_severity_of_illness_description  apr_risk_of_mortality  gender_M  \\\n",
       "0                                         1                      1         0   \n",
       "1                                         2                      1         0   \n",
       "2                                         1                      1         1   \n",
       "3                                         1                      1         0   \n",
       "4                                         2                      2         1   \n",
       "...                                     ...                    ...       ...   \n",
       "698106                                    3                      3         0   \n",
       "698107                                    3                      3         0   \n",
       "698108                                    3                      3         1   \n",
       "698109                                    4                      4         0   \n",
       "698110                                    1                      1         1   \n",
       "\n",
       "        apr_medical_surgical_description_Surgical  \\\n",
       "0                                               0   \n",
       "1                                               0   \n",
       "2                                               0   \n",
       "3                                               0   \n",
       "4                                               0   \n",
       "...                                           ...   \n",
       "698106                                          1   \n",
       "698107                                          0   \n",
       "698108                                          0   \n",
       "698109                                          1   \n",
       "698110                                          0   \n",
       "\n",
       "        emergency_department_indicator_Y  \n",
       "0                                      1  \n",
       "1                                      1  \n",
       "2                                      1  \n",
       "3                                      1  \n",
       "4                                      1  \n",
       "...                                  ...  \n",
       "698106                                 1  \n",
       "698107                                 1  \n",
       "698108                                 1  \n",
       "698109                                 1  \n",
       "698110                                 0  \n",
       "\n",
       "[698111 rows x 12 columns]"
      ]
     },
     "execution_count": 2,
     "metadata": {},
     "output_type": "execute_result"
    }
   ],
   "source": [
    "# loading the dataset.\n",
    "df = pd.read_csv('../data/processed/processed_data.csv')\n",
    "df"
   ]
  },
  {
   "cell_type": "code",
   "execution_count": 3,
   "id": "743fe0ef",
   "metadata": {},
   "outputs": [],
   "source": [
    "df.length_of_stay = df.length_of_stay.astype(float)"
   ]
  },
  {
   "cell_type": "code",
   "execution_count": 4,
   "id": "82f592a4",
   "metadata": {},
   "outputs": [
    {
     "data": {
      "text/plain": [
       "0         5.0\n",
       "1         8.0\n",
       "2         8.0\n",
       "3         4.0\n",
       "4         3.0\n",
       "         ... \n",
       "698106    3.0\n",
       "698107    1.0\n",
       "698108    3.0\n",
       "698109    2.0\n",
       "698110    2.0\n",
       "Name: length_of_stay, Length: 698111, dtype: float64"
      ]
     },
     "execution_count": 4,
     "metadata": {},
     "output_type": "execute_result"
    }
   ],
   "source": [
    "df.length_of_stay"
   ]
  },
  {
   "cell_type": "code",
   "execution_count": 5,
   "id": "35b12d32",
   "metadata": {},
   "outputs": [],
   "source": [
    "# divede the data fram to x = features & y = target\n",
    "x = df.drop(\"length_of_stay\", axis = 1)\n",
    "y = df[\"length_of_stay\"]"
   ]
  },
  {
   "cell_type": "code",
   "execution_count": 6,
   "id": "795d3a73",
   "metadata": {},
   "outputs": [],
   "source": [
    "# taking sample of the data using stratify to maintain data characteristics\n",
    "main_x,sample_x,main_y,sample_y = train_test_split(x,y,test_size=0.03,random_state=42,stratify=y)"
   ]
  },
  {
   "cell_type": "code",
   "execution_count": 7,
   "id": "b8c77e60",
   "metadata": {},
   "outputs": [
    {
     "data": {
      "text/plain": [
       "2.0     2550\n",
       "3.0     2490\n",
       "1.0     2274\n",
       "4.0     2141\n",
       "5.0     1780\n",
       "6.0     1508\n",
       "7.0     1300\n",
       "20.0    1205\n",
       "8.0     1043\n",
       "9.0      837\n",
       "10.0     689\n",
       "11.0     574\n",
       "12.0     487\n",
       "13.0     441\n",
       "14.0     408\n",
       "15.0     329\n",
       "16.0     274\n",
       "17.0     236\n",
       "18.0     204\n",
       "19.0     174\n",
       "Name: length_of_stay, dtype: int64"
      ]
     },
     "execution_count": 7,
     "metadata": {},
     "output_type": "execute_result"
    }
   ],
   "source": [
    "sample_y.value_counts()"
   ]
  },
  {
   "cell_type": "code",
   "execution_count": 8,
   "id": "8d19f310",
   "metadata": {},
   "outputs": [],
   "source": [
    "smote = SMOTE(random_state=14)\n",
    "sample_x,sample_y = smote.fit_resample(sample_x,sample_y)"
   ]
  },
  {
   "cell_type": "code",
   "execution_count": 9,
   "id": "6456c4fa",
   "metadata": {},
   "outputs": [
    {
     "data": {
      "text/plain": [
       "4.0     2550\n",
       "12.0    2550\n",
       "16.0    2550\n",
       "15.0    2550\n",
       "17.0    2550\n",
       "14.0    2550\n",
       "18.0    2550\n",
       "11.0    2550\n",
       "20.0    2550\n",
       "3.0     2550\n",
       "10.0    2550\n",
       "7.0     2550\n",
       "2.0     2550\n",
       "5.0     2550\n",
       "8.0     2550\n",
       "9.0     2550\n",
       "1.0     2550\n",
       "6.0     2550\n",
       "13.0    2550\n",
       "19.0    2550\n",
       "Name: length_of_stay, dtype: int64"
      ]
     },
     "execution_count": 9,
     "metadata": {},
     "output_type": "execute_result"
    }
   ],
   "source": [
    "sample_y.value_counts()"
   ]
  },
  {
   "cell_type": "code",
   "execution_count": 10,
   "id": "7a802aa4",
   "metadata": {},
   "outputs": [
    {
     "data": {
      "text/plain": [
       "51000"
      ]
     },
     "execution_count": 10,
     "metadata": {},
     "output_type": "execute_result"
    }
   ],
   "source": [
    "sample_y.count()"
   ]
  },
  {
   "cell_type": "code",
   "execution_count": 11,
   "id": "4203cccb",
   "metadata": {},
   "outputs": [
    {
     "data": {
      "text/plain": [
       "0"
      ]
     },
     "execution_count": 11,
     "metadata": {},
     "output_type": "execute_result"
    }
   ],
   "source": [
    "sample_y.isnull().sum()"
   ]
  },
  {
   "cell_type": "code",
   "execution_count": 12,
   "id": "64995aa6",
   "metadata": {},
   "outputs": [
    {
     "data": {
      "text/plain": [
       "age_group                                    0\n",
       "type_of_admission                            0\n",
       "ccs_diagnosis_description                    0\n",
       "ccs_procedure_description                    0\n",
       "apr_drg_description                          0\n",
       "apr_mdc_description                          0\n",
       "apr_severity_of_illness_description          0\n",
       "apr_risk_of_mortality                        0\n",
       "gender_M                                     0\n",
       "apr_medical_surgical_description_Surgical    0\n",
       "emergency_department_indicator_Y             0\n",
       "dtype: int64"
      ]
     },
     "execution_count": 12,
     "metadata": {},
     "output_type": "execute_result"
    }
   ],
   "source": [
    "sample_x.isnull().sum()"
   ]
  },
  {
   "cell_type": "code",
   "execution_count": 13,
   "id": "832b988f",
   "metadata": {},
   "outputs": [],
   "source": [
    "x_train,x_test,y_train,y_test = train_test_split(sample_x,sample_y,test_size=0.2,random_state=42,stratify=sample_y)"
   ]
  },
  {
   "cell_type": "code",
   "execution_count": 14,
   "id": "5d57d765",
   "metadata": {},
   "outputs": [],
   "source": [
    "# Using Stander Scaler for x_train, x_test\n",
    "scaler = StandardScaler()\n",
    "x_train_scaled = scaler.fit_transform(x_train)\n",
    "x_test_scaled = scaler.transform(x_test)"
   ]
  },
  {
   "cell_type": "markdown",
   "id": "309ed698",
   "metadata": {},
   "source": [
    "### As we are dealing with multi class model we have conseder the folloing:\n",
    "#### The average parameter in the scikit-learn classification metrics functions controls how the metric is calculated across multiple classes. For multiclass classification tasks, the average parameter can be set to None, micro, macro, or weighted.\n",
    "\n",
    "1) None: The metric is calculated separately for each class, and the results are not averaged.\n",
    "2) micro: The metric is calculated over all predictions, regardless of the class.\n",
    "3) macro: The metric is calculated for each class and then averaged across all classes.\n",
    "4) weighted: The metric is calculated for each class, weighted by the number of samples in that class.\n",
    "#### For multiclass classification tasks, it is generally recommended to use the micro or macro averaging setting. The binary averaging setting is only intended for binary classification tasks here we are going to use macro averaging sitting."
   ]
  },
  {
   "cell_type": "code",
   "execution_count": 15,
   "id": "98ac31a4",
   "metadata": {},
   "outputs": [],
   "source": [
    "# trying three different classification models to compare between them\n",
    "models = {\"knnc\": KNeighborsClassifier(),\n",
    "          \"rfc\": RandomForestClassifier()}"
   ]
  },
  {
   "cell_type": "code",
   "execution_count": 16,
   "id": "ef70873d",
   "metadata": {},
   "outputs": [
    {
     "name": "stdout",
     "output_type": "stream",
     "text": [
      "-----------  knnc  -------------\n",
      "Train Acurracy Score 0.61 Test Acurracy Score 0.4\n",
      "Train Precision Score:  0.6 Test Precision Score:  0.39\n",
      "Train Recall Score:  0.61 Test Recall Score:  0.41\n",
      "************************************************************\n",
      "-----------  rfc  -------------\n",
      "Train Acurracy Score 0.98 Test Acurracy Score 0.54\n",
      "Train Precision Score:  0.98 Test Precision Score:  0.52\n",
      "Train Recall Score:  0.98 Test Recall Score:  0.54\n",
      "************************************************************\n"
     ]
    }
   ],
   "source": [
    "for name,model in models.items():\n",
    "        print(\"----------- \", name, \" -------------\")\n",
    "        model.fit(x_train_scaled,y_train)\n",
    "        y_train_pred = model.predict(x_train_scaled)\n",
    "        y_test_pred = model.predict(x_test_scaled)\n",
    "        print(\"Train Acurracy Score\", round(model.score(x_train_scaled,y_train),2), \"Test Acurracy Score\", round(model.score(x_test_scaled,y_test),2))\n",
    "        print(\"Train Precision Score: \", round(precision_score(y_train,y_train_pred,average='macro'),2),\"Test Precision Score: \", round(precision_score(y_test,y_test_pred,average='macro'),2))\n",
    "        print(\"Train Recall Score: \", round(recall_score(y_train,y_train_pred,average='macro'),2),\"Test Recall Score: \", round(recall_score(y_test,y_test_pred,average='macro'),2))\n",
    "        print(\"*\"*60)"
   ]
  },
  {
   "cell_type": "code",
   "execution_count": 17,
   "id": "11aa6343",
   "metadata": {},
   "outputs": [],
   "source": [
    "rfc = RandomForestClassifier()"
   ]
  },
  {
   "cell_type": "code",
   "execution_count": 18,
   "id": "d24ca188",
   "metadata": {},
   "outputs": [
    {
     "name": "stdout",
     "output_type": "stream",
     "text": [
      "Train Acurracy Score 0.98 Test Acurracy Score 0.54\n",
      "Train Precision Score:  0.98 Test Precision Score:  0.52\n",
      "Train Recall Score:  0.98 Test Recall Score:  0.54\n",
      "************************************************************\n"
     ]
    }
   ],
   "source": [
    "model.fit(x_train_scaled,y_train)\n",
    "y_train_pred = model.predict(x_train_scaled)\n",
    "y_test_pred = model.predict(x_test_scaled)\n",
    "print(\"Train Acurracy Score\", round(model.score(x_train_scaled,y_train),2), \"Test Acurracy Score\", round(model.score(x_test_scaled,y_test),2))\n",
    "print(\"Train Precision Score: \", round(precision_score(y_train,y_train_pred,average='macro'),2),\"Test Precision Score: \", round(precision_score(y_test,y_test_pred,average='macro'),2))\n",
    "print(\"Train Recall Score: \", round(recall_score(y_train,y_train_pred,average='macro'),2),\"Test Recall Score: \", round(recall_score(y_test,y_test_pred,average='macro'),2))\n",
    "print(\"*\"*60)"
   ]
  },
  {
   "cell_type": "markdown",
   "id": "4cfe8f9b",
   "metadata": {},
   "source": [
    "## Parameter Tuning\n",
    "\n",
    "#### Here are some parameters that we can use for a random forest classification model for cross-validation with grid & random search to handle model overfitting:\n",
    "\n",
    "     * n_estimators: The number of trees in the forest. A higher number of trees will generally improve the accuracy of the model, but it will also increase the training time. we can try values between 100 and 1000.\n",
    "\n",
    "     * max_depth: The maximum depth of each tree in the forest. A deeper tree will be able to learn more complex relationships between the features and the target variable, but it is also more likely to overfit the training data. we can try values between 3 and 10.\n",
    "\n",
    "     * min_samples_split: The minimum number of samples required to split a node in the tree. A higher value will make the model more robust to overfitting, but it may also reduce the accuracy of the model. we can try values between 2 and 10.\n",
    "\n",
    "     * min_samples_leaf: The minimum number of samples required in a leaf node. A higher value will make the model more robust to overfitting, but it may also reduce the accuracy of the model. we can try values between 1 and 5.\n",
    "\n",
    "     * max_features: The maximum number of features to consider when splitting a node in the tree. A higher value will allow the model to learn more complex relationships between the features and the target variable, but it is also more likely to overfit the training data. we can try values between sqrt(n_features) and n_features.\n",
    "\n",
    "     * bootstrap: Whether to bootstrap the data when training the trees in the forest. Bootstrapping can help to reduce overfitting, but it may also reduce the accuracy of the model. we can try both True and False.\n",
    "\n",
    "     * criterion: The criterion used to split nodes in the trees. The two most common criteria are Gini impurity and entropy. we can try both Gini impurity and entropy.\n",
    "\n",
    "     * oob_score: Whether to calculate the out-of-bag (OOB) score during training. The OOB score is an estimate of the accuracy of the model on unseen data. we can try both True and False.\n",
    "\n",
    "     * cv: The number of folds to use in cross-validation. we can try values between 3 and 10.\n"
   ]
  },
  {
   "cell_type": "code",
   "execution_count": 19,
   "id": "fb22135d",
   "metadata": {},
   "outputs": [
    {
     "data": {
      "text/plain": [
       "RandomizedSearchCV(cv=10, estimator=RandomForestClassifier(),\n",
       "                   param_distributions={'bootstrap': [True],\n",
       "                                        'criterion': ['gini', 'entropy'],\n",
       "                                        'max_depth': [1, 3, 5],\n",
       "                                        'max_features': ['sqrt', 'log2'],\n",
       "                                        'min_samples_leaf': [15, 20, 25],\n",
       "                                        'min_samples_split': [15, 20, 25],\n",
       "                                        'n_estimators': [100, 200, 300]},\n",
       "                   scoring='accuracy')"
      ]
     },
     "execution_count": 19,
     "metadata": {},
     "output_type": "execute_result"
    }
   ],
   "source": [
    "# Define the parameter grid\n",
    "param_grid = {\n",
    "    'n_estimators': [100, 200, 300],\n",
    "    'max_depth': [1, 3, 5],\n",
    "    'min_samples_split': [15,20,25],\n",
    "    'min_samples_leaf': [15,20,25],\n",
    "    'max_features': ['sqrt', 'log2',],\n",
    "    'bootstrap': [True],\n",
    "    'criterion': ['gini', 'entropy'],\n",
    "}\n",
    "\n",
    "# Perform grid search\n",
    "random_search = RandomizedSearchCV(rfc, param_grid, cv=10,scoring='accuracy')\n",
    "random_search.fit(x_train_scaled,y_train)"
   ]
  },
  {
   "cell_type": "code",
   "execution_count": 20,
   "id": "6e9c65fa",
   "metadata": {},
   "outputs": [
    {
     "data": {
      "text/plain": [
       "{'n_estimators': 200,\n",
       " 'min_samples_split': 25,\n",
       " 'min_samples_leaf': 15,\n",
       " 'max_features': 'sqrt',\n",
       " 'max_depth': 5,\n",
       " 'criterion': 'gini',\n",
       " 'bootstrap': True}"
      ]
     },
     "execution_count": 20,
     "metadata": {},
     "output_type": "execute_result"
    }
   ],
   "source": [
    "# Get the best parameters\n",
    "best_params = random_search.best_params_\n",
    "best_params"
   ]
  },
  {
   "cell_type": "code",
   "execution_count": 21,
   "id": "2ef8bdc3",
   "metadata": {},
   "outputs": [
    {
     "data": {
      "text/plain": [
       "RandomForestClassifier(max_depth=5, max_features='sqrt', min_samples_leaf=15,\n",
       "                       min_samples_split=25, n_estimators=200)"
      ]
     },
     "execution_count": 21,
     "metadata": {},
     "output_type": "execute_result"
    }
   ],
   "source": [
    "random_search.best_estimator_"
   ]
  },
  {
   "cell_type": "code",
   "execution_count": 23,
   "id": "80677d0e",
   "metadata": {},
   "outputs": [
    {
     "name": "stdout",
     "output_type": "stream",
     "text": [
      "Train Acurracy Score 0.98 Test Acurracy Score 0.54\n",
      "Train Precision Score:  0.98 Test Precision Score:  0.52\n",
      "Train Recall Score:  0.98 Test Recall Score:  0.54\n",
      "************************************************************\n"
     ]
    }
   ],
   "source": [
    "# Train the model with the best parameters\n",
    "rfc =RandomForestClassifier(criterion='gini', max_depth=5, max_features='sqrt',\n",
    "                       min_samples_leaf=15, min_samples_split=25,\n",
    "                       n_estimators=200)\n",
    "#model.fit(x_train_scaled,y_train)\n",
    "rfc.fit(x_train_scaled,y_train)\n",
    "y_train_pred = model.predict(x_train_scaled)\n",
    "y_test_pred = model.predict(x_test_scaled)\n",
    "print(\"Train Acurracy Score\", round(model.score(x_train_scaled,y_train),2), \"Test Acurracy Score\", round(model.score(x_test_scaled,y_test),2))\n",
    "print(\"Train Precision Score: \", round(precision_score(y_train,y_train_pred,average='macro'),2),\"Test Precision Score: \", round(precision_score(y_test,y_test_pred,average='macro'),2))\n",
    "print(\"Train Recall Score: \", round(recall_score(y_train,y_train_pred,average='macro'),2),\"Test Recall Score: \", round(recall_score(y_test,y_test_pred,average='macro'),2))\n",
    "print(\"*\"*60)"
   ]
  },
  {
   "cell_type": "code",
   "execution_count": 27,
   "id": "123e1d90",
   "metadata": {},
   "outputs": [
    {
     "data": {
      "text/plain": [
       "['age_group',\n",
       " 'type_of_admission',\n",
       " 'ccs_diagnosis_description',\n",
       " 'ccs_procedure_description',\n",
       " 'apr_drg_description',\n",
       " 'apr_mdc_description',\n",
       " 'apr_severity_of_illness_description',\n",
       " 'apr_risk_of_mortality',\n",
       " 'gender_M',\n",
       " 'apr_medical_surgical_description_Surgical',\n",
       " 'emergency_department_indicator_Y']"
      ]
     },
     "execution_count": 27,
     "metadata": {},
     "output_type": "execute_result"
    }
   ],
   "source": [
    "# list for features names\n",
    "features = list(x_train.columns)\n",
    "features"
   ]
  },
  {
   "cell_type": "code",
   "execution_count": 29,
   "id": "ed6b11e8",
   "metadata": {},
   "outputs": [],
   "source": [
    "# saving random search bet model estimator to variables\n",
    "rfc_model = random_search.best_estimator_"
   ]
  },
  {
   "cell_type": "code",
   "execution_count": 30,
   "id": "f01960d8",
   "metadata": {},
   "outputs": [
    {
     "data": {
      "text/plain": [
       "['../models/scaler.h5']"
      ]
     },
     "execution_count": 30,
     "metadata": {},
     "output_type": "execute_result"
    }
   ],
   "source": [
    "# creating h5 files for randomforest models for length of stay\n",
    "joblib.dump(rfc_model,\"../models/rfc_model.h5\")\n",
    "joblib.dump(features,\"../models/features.h5\")\n",
    "joblib.dump(scaler,\"../models/scaler.h5\")"
   ]
  },
  {
   "cell_type": "code",
   "execution_count": null,
   "id": "086bf3f0",
   "metadata": {},
   "outputs": [],
   "source": []
  },
  {
   "cell_type": "code",
   "execution_count": null,
   "id": "36948add",
   "metadata": {},
   "outputs": [],
   "source": []
  },
  {
   "cell_type": "code",
   "execution_count": null,
   "id": "8d950b08",
   "metadata": {},
   "outputs": [],
   "source": []
  }
 ],
 "metadata": {
  "kernelspec": {
   "display_name": "Python 3 (ipykernel)",
   "language": "python",
   "name": "python3"
  },
  "language_info": {
   "codemirror_mode": {
    "name": "ipython",
    "version": 3
   },
   "file_extension": ".py",
   "mimetype": "text/x-python",
   "name": "python",
   "nbconvert_exporter": "python",
   "pygments_lexer": "ipython3",
   "version": "3.7.15"
  }
 },
 "nbformat": 4,
 "nbformat_minor": 5
}
